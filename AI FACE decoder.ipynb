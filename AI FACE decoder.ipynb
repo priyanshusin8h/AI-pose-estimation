{
 "cells": [
  {
   "cell_type": "markdown",
   "id": "c5de1a05",
   "metadata": {},
   "source": [
    "## Install and Import Dependencies"
   ]
  },
  {
   "cell_type": "code",
   "execution_count": 79,
   "id": "52025c42",
   "metadata": {},
   "outputs": [],
   "source": [
    "import mediapipe as mp # Import mediapipe\n",
    "import cv2 # Import opencv"
   ]
  },
  {
   "cell_type": "code",
   "execution_count": 80,
   "id": "25a38191",
   "metadata": {},
   "outputs": [],
   "source": [
    "mp_drawing = mp.solutions.drawing_utils # Drawing helpers\n",
    "mp_holistic = mp.solutions.holistic # Mediapipe Solutions\""
   ]
  },
  {
   "cell_type": "markdown",
   "id": "644a8984",
   "metadata": {},
   "source": [
    "## MAKE SOME DETECTIONS"
   ]
  },
  {
   "cell_type": "code",
   "execution_count": 81,
   "id": "c48bcf31",
   "metadata": {},
   "outputs": [],
   "source": [
    "cap = cv2.VideoCapture(0)\n",
    "# Initiate holistic model\n",
    "with mp_holistic.Holistic(min_detection_confidence=0.5, min_tracking_confidence=0.5) as holistic:\n",
    "    \n",
    "    while cap.isOpened():\n",
    "        ret, frame = cap.read()\n",
    "        \n",
    "        # Recolor Feed\n",
    "        image = cv2.cvtColor(frame, cv2.COLOR_BGR2RGB)\n",
    "        image.flags.writeable = False        \n",
    "        \n",
    "        # Make Detections\n",
    "        results = holistic.process(image)\n",
    "        # print(results.face_landmarks)\n",
    "        \n",
    "        # face_landmarks, pose_landmarks, left_hand_landmarks, right_hand_landmarks\n",
    "        \n",
    "        # Recolor image back to BGR for rendering\n",
    "        image.flags.writeable = True   \n",
    "        image = cv2.cvtColor(image, cv2.COLOR_RGB2BGR)\n",
    "        \n",
    "        # 1. Draw face landmarks\n",
    "        mp_drawing.draw_landmarks(image, results.face_landmarks, mp_holistic.FACEMESH_TESSELATION, \n",
    "                                 mp_drawing.DrawingSpec(color=(80,110,10), thickness=1, circle_radius=1),\n",
    "                                 mp_drawing.DrawingSpec(color=(80,256,121), thickness=1, circle_radius=1)\n",
    "                                 )\n",
    "        \n",
    "        # 2. Right hand\n",
    "        mp_drawing.draw_landmarks(image, results.right_hand_landmarks, mp_holistic.HAND_CONNECTIONS, \n",
    "                                 mp_drawing.DrawingSpec(color=(80,22,10), thickness=2, circle_radius=4),\n",
    "                                 mp_drawing.DrawingSpec(color=(80,44,121), thickness=2, circle_radius=2)\n",
    "                                 )\n",
    "\n",
    "        # 3. Left Hand\n",
    "        mp_drawing.draw_landmarks(image, results.left_hand_landmarks, mp_holistic.HAND_CONNECTIONS, \n",
    "                                 mp_drawing.DrawingSpec(color=(121,22,76), thickness=2, circle_radius=4),\n",
    "                                 mp_drawing.DrawingSpec(color=(121,44,250), thickness=2, circle_radius=2)\n",
    "                                 )\n",
    "         # 4. Pose Detections\n",
    "        mp_drawing.draw_landmarks(image, results.pose_landmarks, mp_holistic.POSE_CONNECTIONS, \n",
    "                                 mp_drawing.DrawingSpec(color=(245,117,66), thickness=2, circle_radius=4),\n",
    "                                 mp_drawing.DrawingSpec(color=(245,66,230), thickness=2, circle_radius=2)\n",
    "                                 )\n",
    "                        \n",
    "        cv2.imshow('Raw Webcam Feed', image)\n",
    "\n",
    "        if cv2.waitKey(10) & 0xFF == ord('q'):\n",
    "            break\n",
    "\n",
    "cap.release()\n",
    "cv2.destroyAllWindows()"
   ]
  },
  {
   "cell_type": "code",
   "execution_count": 82,
   "id": "9352999c",
   "metadata": {},
   "outputs": [
    {
     "data": {
      "text/plain": [
       "-0.02948199026286602"
      ]
     },
     "execution_count": 82,
     "metadata": {},
     "output_type": "execute_result"
    }
   ],
   "source": [
    "results.face_landmarks.landmark[0].z\n"
   ]
  },
  {
   "cell_type": "code",
   "execution_count": 83,
   "id": "20770d08",
   "metadata": {},
   "outputs": [],
   "source": [
    "import csv\n",
    "import os\n",
    "import numpy as np"
   ]
  },
  {
   "cell_type": "code",
   "execution_count": 84,
   "id": "cc0ac759",
   "metadata": {
    "scrolled": true
   },
   "outputs": [
    {
     "data": {
      "text/plain": [
       "501"
      ]
     },
     "execution_count": 84,
     "metadata": {},
     "output_type": "execute_result"
    }
   ],
   "source": [
    "num_coords = len(results.pose_landmarks.landmark)+len(results.face_landmarks.landmark)\n",
    "num_coords"
   ]
  },
  {
   "cell_type": "code",
   "execution_count": 140,
   "id": "18e8b6b8",
   "metadata": {},
   "outputs": [],
   "source": [
    "landmarks = ['class']\n",
    "for val in range(1, num_coords+1):\n",
    "    landmarks += ['x{}'.format(val), 'y{}'.format(val), 'z{}'.format(val), 'v{}'.format(val)]"
   ]
  },
  {
   "cell_type": "code",
   "execution_count": 141,
   "id": "2b49bd68",
   "metadata": {},
   "outputs": [
    {
     "data": {
      "text/plain": [
       "'v500'"
      ]
     },
     "execution_count": 141,
     "metadata": {},
     "output_type": "execute_result"
    }
   ],
   "source": [
    "landmarks[-5]"
   ]
  },
  {
   "cell_type": "code",
   "execution_count": 144,
   "id": "2c4d08bb",
   "metadata": {},
   "outputs": [],
   "source": [
    "with open('coords.csv', mode='w', newline='') as f:\n",
    "    csv_writer = csv.writer(f, delimiter=',', quotechar='\"', quoting=csv.QUOTE_MINIMAL)\n",
    "    csv_writer.writerow(landmarks) #export columns into csv"
   ]
  },
  {
   "cell_type": "code",
   "execution_count": 155,
   "id": "de9624ef",
   "metadata": {},
   "outputs": [],
   "source": [
    "class_name = \"Wakanda Forever\""
   ]
  },
  {
   "cell_type": "code",
   "execution_count": 156,
   "id": "33e13e3b",
   "metadata": {},
   "outputs": [],
   "source": [
    "cap = cv2.VideoCapture(0)\n",
    "# Initiate holistic model\n",
    "with mp_holistic.Holistic(min_detection_confidence=0.5, min_tracking_confidence=0.5) as holistic:\n",
    "    \n",
    "    while cap.isOpened():\n",
    "        ret, frame = cap.read()\n",
    "        \n",
    "        # Recolor Feed\n",
    "        image = cv2.cvtColor(frame, cv2.COLOR_BGR2RGB)\n",
    "        image.flags.writeable = False        \n",
    "        \n",
    "        # Make Detections\n",
    "        results = holistic.process(image)\n",
    "        # print(results.face_landmarks)\n",
    "        \n",
    "        # face_landmarks, pose_landmarks, left_hand_landmarks, right_hand_landmarks\n",
    "        \n",
    "        # Recolor image back to BGR for rendering\n",
    "        image.flags.writeable = True   \n",
    "        image = cv2.cvtColor(image, cv2.COLOR_RGB2BGR)\n",
    "        \n",
    "        # 1. Draw face landmarks\n",
    "        mp_drawing.draw_landmarks(image, results.face_landmarks, mp_holistic.FACEMESH_TESSELATION, \n",
    "                                 mp_drawing.DrawingSpec(color=(80,110,10), thickness=1, circle_radius=1),\n",
    "                                 mp_drawing.DrawingSpec(color=(80,256,121), thickness=1, circle_radius=1)\n",
    "                                 )\n",
    "        \n",
    "        # 2. Right hand\n",
    "        mp_drawing.draw_landmarks(image, results.right_hand_landmarks, mp_holistic.HAND_CONNECTIONS, \n",
    "                                 mp_drawing.DrawingSpec(color=(80,22,10), thickness=2, circle_radius=4),\n",
    "                                 mp_drawing.DrawingSpec(color=(80,44,121), thickness=2, circle_radius=2)\n",
    "                                 )\n",
    "\n",
    "        # 3. Left Hand\n",
    "        mp_drawing.draw_landmarks(image, results.left_hand_landmarks, mp_holistic.HAND_CONNECTIONS, \n",
    "                                 mp_drawing.DrawingSpec(color=(121,22,76), thickness=2, circle_radius=4),\n",
    "                                 mp_drawing.DrawingSpec(color=(121,44,250), thickness=2, circle_radius=2)\n",
    "                                 )\n",
    "\n",
    "        # 4. Pose Detections\n",
    "        mp_drawing.draw_landmarks(image, results.pose_landmarks, mp_holistic.POSE_CONNECTIONS, \n",
    "                                 mp_drawing.DrawingSpec(color=(245,117,66), thickness=2, circle_radius=4),\n",
    "                                 mp_drawing.DrawingSpec(color=(245,66,230), thickness=2, circle_radius=2)\n",
    "                                 )\n",
    "                # Export coordinates\n",
    "        try:\n",
    "            # Extract Pose landmarks\n",
    "            pose = results.pose_landmarks.landmark\n",
    "            pose_row = list(np.array([[landmark.x, landmark.y, landmark.z, landmark.visibility] for landmark in pose]).flatten())\n",
    "            \n",
    "            # Extract Face landmarks\n",
    "            face = results.face_landmarks.landmark\n",
    "            face_row = list(np.array([[landmark.x, landmark.y, landmark.z, landmark.visibility] for landmark in face]).flatten())\n",
    "            \n",
    "            # Concate rows\n",
    "            row = pose_row+face_row\n",
    "            \n",
    "            # Append class name \n",
    "            row.insert(0, class_name)\n",
    "            \n",
    "            # Export to CSV\n",
    "            with open('coords.csv', mode='a', newline='') as f:\n",
    "                csv_writer = csv.writer(f, delimiter=',', quotechar='\"', quoting=csv.QUOTE_MINIMAL)\n",
    "                csv_writer.writerow(row) \n",
    "            \n",
    "        except:\n",
    "            pass\n",
    "                        \n",
    "        cv2.imshow('Raw Webcam Feed', image)\n",
    "\n",
    "        if cv2.waitKey(10) & 0xFF == ord('q'):\n",
    "            break\n",
    "\n",
    "cap.release()\n",
    "cv2.destroyAllWindows()\n"
   ]
  },
  {
   "cell_type": "markdown",
   "id": "e67033c4",
   "metadata": {},
   "source": [
    "## 3. Train Custom Model Using Scikit Learn"
   ]
  },
  {
   "cell_type": "markdown",
   "id": "e40e251e",
   "metadata": {},
   "source": [
    "## 3.1 Read in Collected Data and Process"
   ]
  },
  {
   "cell_type": "code",
   "execution_count": 157,
   "id": "cb8581cc",
   "metadata": {},
   "outputs": [],
   "source": [
    "import pandas as pd\n",
    "from sklearn.model_selection import train_test_split"
   ]
  },
  {
   "cell_type": "code",
   "execution_count": 159,
   "id": "ec344a5f",
   "metadata": {},
   "outputs": [],
   "source": [
    "df = pd.read_csv('coords.csv')"
   ]
  },
  {
   "cell_type": "code",
   "execution_count": 160,
   "id": "1d58013e",
   "metadata": {},
   "outputs": [
    {
     "data": {
      "text/plain": [
       "<bound method NDFrame.head of                class        x1        y1        z1        v1        x2  \\\n",
       "0              Happy  0.611176  0.488615 -1.525906  0.999047  0.646741   \n",
       "1              Happy  0.604900  0.488313 -1.519031  0.999101  0.641291   \n",
       "2              Happy  0.600079  0.488378 -1.489210  0.999151  0.637104   \n",
       "3              Happy  0.598231  0.488584 -1.489739  0.999172  0.635723   \n",
       "4              Happy  0.597203  0.488569 -1.540208  0.999183  0.634657   \n",
       "..               ...       ...       ...       ...       ...       ...   \n",
       "974  Wakanda Forever  0.608730  0.471587 -0.350806  0.999873  0.621622   \n",
       "975  Wakanda Forever  0.618745  0.476134 -0.469060  0.999718  0.631361   \n",
       "976  Wakanda Forever  0.626358  0.488343 -0.585194  0.999736  0.642026   \n",
       "977  Wakanda Forever  0.635485  0.502440 -0.767892  0.999718  0.654304   \n",
       "978  Wakanda Forever  0.652028  0.528517 -0.758748  0.999403  0.672321   \n",
       "\n",
       "           y2        z2        v2        x3  ...      z499  v499      x500  \\\n",
       "0    0.413944 -1.430525  0.998173  0.669737  ... -0.009080   0.0  0.677608   \n",
       "1    0.412683 -1.418575  0.998267  0.666466  ... -0.011739   0.0  0.678556   \n",
       "2    0.412631 -1.392399  0.998349  0.663756  ... -0.010899   0.0  0.679347   \n",
       "3    0.412624 -1.389822  0.998397  0.662712  ... -0.010517   0.0  0.680418   \n",
       "4    0.412470 -1.440028  0.998399  0.661539  ... -0.010776   0.0  0.679684   \n",
       "..        ...       ...       ...       ...  ...       ...   ...       ...   \n",
       "974  0.430876 -0.292680  0.999691  0.631511  ... -0.000215   0.0  0.639564   \n",
       "975  0.435581 -0.416942  0.999390  0.641968  ... -0.002130   0.0  0.648826   \n",
       "976  0.448224 -0.535247  0.999421  0.652792  ... -0.002596   0.0  0.657109   \n",
       "977  0.462124 -0.715739  0.999348  0.665116  ... -0.002746   0.0  0.670637   \n",
       "978  0.488628 -0.706560  0.998596  0.683903  ... -0.007196   0.0  0.692431   \n",
       "\n",
       "         y500      z500  v500      x501      y501      z501  v501  \n",
       "0    0.419467  0.011340   0.0  0.685155  0.412022  0.011655   0.0  \n",
       "1    0.419822  0.009533   0.0  0.685756  0.413003  0.009875   0.0  \n",
       "2    0.419810  0.009964   0.0  0.686583  0.412920  0.010277   0.0  \n",
       "3    0.419254  0.010968   0.0  0.687601  0.412468  0.011283   0.0  \n",
       "4    0.420809  0.010366   0.0  0.687027  0.413264  0.010716   0.0  \n",
       "..        ...       ...   ...       ...       ...       ...   ...  \n",
       "974  0.433097  0.008739   0.0  0.643413  0.428690  0.008894   0.0  \n",
       "975  0.447290  0.009276   0.0  0.652623  0.443430  0.009611   0.0  \n",
       "976  0.460208  0.009461   0.0  0.660952  0.455942  0.009938   0.0  \n",
       "977  0.476443  0.009345   0.0  0.674790  0.472058  0.009777   0.0  \n",
       "978  0.501418  0.003111   0.0  0.696910  0.497440  0.003005   0.0  \n",
       "\n",
       "[979 rows x 2005 columns]>"
      ]
     },
     "execution_count": 160,
     "metadata": {},
     "output_type": "execute_result"
    }
   ],
   "source": [
    "df.head"
   ]
  },
  {
   "cell_type": "code",
   "execution_count": 161,
   "id": "95985115",
   "metadata": {},
   "outputs": [
    {
     "data": {
      "text/plain": [
       "<bound method NDFrame.tail of                class        x1        y1        z1        v1        x2  \\\n",
       "0              Happy  0.611176  0.488615 -1.525906  0.999047  0.646741   \n",
       "1              Happy  0.604900  0.488313 -1.519031  0.999101  0.641291   \n",
       "2              Happy  0.600079  0.488378 -1.489210  0.999151  0.637104   \n",
       "3              Happy  0.598231  0.488584 -1.489739  0.999172  0.635723   \n",
       "4              Happy  0.597203  0.488569 -1.540208  0.999183  0.634657   \n",
       "..               ...       ...       ...       ...       ...       ...   \n",
       "974  Wakanda Forever  0.608730  0.471587 -0.350806  0.999873  0.621622   \n",
       "975  Wakanda Forever  0.618745  0.476134 -0.469060  0.999718  0.631361   \n",
       "976  Wakanda Forever  0.626358  0.488343 -0.585194  0.999736  0.642026   \n",
       "977  Wakanda Forever  0.635485  0.502440 -0.767892  0.999718  0.654304   \n",
       "978  Wakanda Forever  0.652028  0.528517 -0.758748  0.999403  0.672321   \n",
       "\n",
       "           y2        z2        v2        x3  ...      z499  v499      x500  \\\n",
       "0    0.413944 -1.430525  0.998173  0.669737  ... -0.009080   0.0  0.677608   \n",
       "1    0.412683 -1.418575  0.998267  0.666466  ... -0.011739   0.0  0.678556   \n",
       "2    0.412631 -1.392399  0.998349  0.663756  ... -0.010899   0.0  0.679347   \n",
       "3    0.412624 -1.389822  0.998397  0.662712  ... -0.010517   0.0  0.680418   \n",
       "4    0.412470 -1.440028  0.998399  0.661539  ... -0.010776   0.0  0.679684   \n",
       "..        ...       ...       ...       ...  ...       ...   ...       ...   \n",
       "974  0.430876 -0.292680  0.999691  0.631511  ... -0.000215   0.0  0.639564   \n",
       "975  0.435581 -0.416942  0.999390  0.641968  ... -0.002130   0.0  0.648826   \n",
       "976  0.448224 -0.535247  0.999421  0.652792  ... -0.002596   0.0  0.657109   \n",
       "977  0.462124 -0.715739  0.999348  0.665116  ... -0.002746   0.0  0.670637   \n",
       "978  0.488628 -0.706560  0.998596  0.683903  ... -0.007196   0.0  0.692431   \n",
       "\n",
       "         y500      z500  v500      x501      y501      z501  v501  \n",
       "0    0.419467  0.011340   0.0  0.685155  0.412022  0.011655   0.0  \n",
       "1    0.419822  0.009533   0.0  0.685756  0.413003  0.009875   0.0  \n",
       "2    0.419810  0.009964   0.0  0.686583  0.412920  0.010277   0.0  \n",
       "3    0.419254  0.010968   0.0  0.687601  0.412468  0.011283   0.0  \n",
       "4    0.420809  0.010366   0.0  0.687027  0.413264  0.010716   0.0  \n",
       "..        ...       ...   ...       ...       ...       ...   ...  \n",
       "974  0.433097  0.008739   0.0  0.643413  0.428690  0.008894   0.0  \n",
       "975  0.447290  0.009276   0.0  0.652623  0.443430  0.009611   0.0  \n",
       "976  0.460208  0.009461   0.0  0.660952  0.455942  0.009938   0.0  \n",
       "977  0.476443  0.009345   0.0  0.674790  0.472058  0.009777   0.0  \n",
       "978  0.501418  0.003111   0.0  0.696910  0.497440  0.003005   0.0  \n",
       "\n",
       "[979 rows x 2005 columns]>"
      ]
     },
     "execution_count": 161,
     "metadata": {},
     "output_type": "execute_result"
    }
   ],
   "source": [
    "df.tail"
   ]
  },
  {
   "cell_type": "code",
   "execution_count": 162,
   "id": "390c5f35",
   "metadata": {},
   "outputs": [
    {
     "data": {
      "text/html": [
       "<div>\n",
       "<style scoped>\n",
       "    .dataframe tbody tr th:only-of-type {\n",
       "        vertical-align: middle;\n",
       "    }\n",
       "\n",
       "    .dataframe tbody tr th {\n",
       "        vertical-align: top;\n",
       "    }\n",
       "\n",
       "    .dataframe thead th {\n",
       "        text-align: right;\n",
       "    }\n",
       "</style>\n",
       "<table border=\"1\" class=\"dataframe\">\n",
       "  <thead>\n",
       "    <tr style=\"text-align: right;\">\n",
       "      <th></th>\n",
       "      <th>class</th>\n",
       "      <th>x1</th>\n",
       "      <th>y1</th>\n",
       "      <th>z1</th>\n",
       "      <th>v1</th>\n",
       "      <th>x2</th>\n",
       "      <th>y2</th>\n",
       "      <th>z2</th>\n",
       "      <th>v2</th>\n",
       "      <th>x3</th>\n",
       "      <th>...</th>\n",
       "      <th>z499</th>\n",
       "      <th>v499</th>\n",
       "      <th>x500</th>\n",
       "      <th>y500</th>\n",
       "      <th>z500</th>\n",
       "      <th>v500</th>\n",
       "      <th>x501</th>\n",
       "      <th>y501</th>\n",
       "      <th>z501</th>\n",
       "      <th>v501</th>\n",
       "    </tr>\n",
       "  </thead>\n",
       "  <tbody>\n",
       "    <tr>\n",
       "      <th>117</th>\n",
       "      <td>Sad</td>\n",
       "      <td>0.599312</td>\n",
       "      <td>0.511001</td>\n",
       "      <td>-1.740777</td>\n",
       "      <td>0.996578</td>\n",
       "      <td>0.640860</td>\n",
       "      <td>0.429814</td>\n",
       "      <td>-1.629541</td>\n",
       "      <td>0.995594</td>\n",
       "      <td>0.664622</td>\n",
       "      <td>...</td>\n",
       "      <td>-0.004788</td>\n",
       "      <td>0.0</td>\n",
       "      <td>0.692289</td>\n",
       "      <td>0.411244</td>\n",
       "      <td>0.018347</td>\n",
       "      <td>0.0</td>\n",
       "      <td>0.701035</td>\n",
       "      <td>0.402576</td>\n",
       "      <td>0.018632</td>\n",
       "      <td>0.0</td>\n",
       "    </tr>\n",
       "    <tr>\n",
       "      <th>118</th>\n",
       "      <td>Sad</td>\n",
       "      <td>0.596554</td>\n",
       "      <td>0.512242</td>\n",
       "      <td>-1.733215</td>\n",
       "      <td>0.996628</td>\n",
       "      <td>0.639130</td>\n",
       "      <td>0.429816</td>\n",
       "      <td>-1.624380</td>\n",
       "      <td>0.995583</td>\n",
       "      <td>0.664001</td>\n",
       "      <td>...</td>\n",
       "      <td>-0.005299</td>\n",
       "      <td>0.0</td>\n",
       "      <td>0.690664</td>\n",
       "      <td>0.409858</td>\n",
       "      <td>0.018390</td>\n",
       "      <td>0.0</td>\n",
       "      <td>0.699184</td>\n",
       "      <td>0.401005</td>\n",
       "      <td>0.018837</td>\n",
       "      <td>0.0</td>\n",
       "    </tr>\n",
       "    <tr>\n",
       "      <th>119</th>\n",
       "      <td>Sad</td>\n",
       "      <td>0.595668</td>\n",
       "      <td>0.512482</td>\n",
       "      <td>-1.712211</td>\n",
       "      <td>0.996636</td>\n",
       "      <td>0.638693</td>\n",
       "      <td>0.429779</td>\n",
       "      <td>-1.601173</td>\n",
       "      <td>0.995619</td>\n",
       "      <td>0.663821</td>\n",
       "      <td>...</td>\n",
       "      <td>-0.004987</td>\n",
       "      <td>0.0</td>\n",
       "      <td>0.688907</td>\n",
       "      <td>0.410280</td>\n",
       "      <td>0.017299</td>\n",
       "      <td>0.0</td>\n",
       "      <td>0.697364</td>\n",
       "      <td>0.401153</td>\n",
       "      <td>0.017716</td>\n",
       "      <td>0.0</td>\n",
       "    </tr>\n",
       "    <tr>\n",
       "      <th>120</th>\n",
       "      <td>Sad</td>\n",
       "      <td>0.593942</td>\n",
       "      <td>0.512464</td>\n",
       "      <td>-1.702640</td>\n",
       "      <td>0.996620</td>\n",
       "      <td>0.637338</td>\n",
       "      <td>0.429617</td>\n",
       "      <td>-1.593746</td>\n",
       "      <td>0.995558</td>\n",
       "      <td>0.662961</td>\n",
       "      <td>...</td>\n",
       "      <td>-0.005084</td>\n",
       "      <td>0.0</td>\n",
       "      <td>0.688348</td>\n",
       "      <td>0.411943</td>\n",
       "      <td>0.016425</td>\n",
       "      <td>0.0</td>\n",
       "      <td>0.696901</td>\n",
       "      <td>0.402476</td>\n",
       "      <td>0.016834</td>\n",
       "      <td>0.0</td>\n",
       "    </tr>\n",
       "    <tr>\n",
       "      <th>121</th>\n",
       "      <td>Sad</td>\n",
       "      <td>0.592540</td>\n",
       "      <td>0.512608</td>\n",
       "      <td>-1.676455</td>\n",
       "      <td>0.996568</td>\n",
       "      <td>0.636213</td>\n",
       "      <td>0.429610</td>\n",
       "      <td>-1.571407</td>\n",
       "      <td>0.995409</td>\n",
       "      <td>0.662322</td>\n",
       "      <td>...</td>\n",
       "      <td>-0.005311</td>\n",
       "      <td>0.0</td>\n",
       "      <td>0.688898</td>\n",
       "      <td>0.411914</td>\n",
       "      <td>0.016713</td>\n",
       "      <td>0.0</td>\n",
       "      <td>0.697509</td>\n",
       "      <td>0.402184</td>\n",
       "      <td>0.017176</td>\n",
       "      <td>0.0</td>\n",
       "    </tr>\n",
       "    <tr>\n",
       "      <th>...</th>\n",
       "      <td>...</td>\n",
       "      <td>...</td>\n",
       "      <td>...</td>\n",
       "      <td>...</td>\n",
       "      <td>...</td>\n",
       "      <td>...</td>\n",
       "      <td>...</td>\n",
       "      <td>...</td>\n",
       "      <td>...</td>\n",
       "      <td>...</td>\n",
       "      <td>...</td>\n",
       "      <td>...</td>\n",
       "      <td>...</td>\n",
       "      <td>...</td>\n",
       "      <td>...</td>\n",
       "      <td>...</td>\n",
       "      <td>...</td>\n",
       "      <td>...</td>\n",
       "      <td>...</td>\n",
       "      <td>...</td>\n",
       "      <td>...</td>\n",
       "    </tr>\n",
       "    <tr>\n",
       "      <th>296</th>\n",
       "      <td>Sad</td>\n",
       "      <td>0.640127</td>\n",
       "      <td>0.515313</td>\n",
       "      <td>-1.216981</td>\n",
       "      <td>0.998960</td>\n",
       "      <td>0.668547</td>\n",
       "      <td>0.445988</td>\n",
       "      <td>-1.121146</td>\n",
       "      <td>0.998864</td>\n",
       "      <td>0.686499</td>\n",
       "      <td>...</td>\n",
       "      <td>-0.001761</td>\n",
       "      <td>0.0</td>\n",
       "      <td>0.697966</td>\n",
       "      <td>0.442722</td>\n",
       "      <td>0.014793</td>\n",
       "      <td>0.0</td>\n",
       "      <td>0.704872</td>\n",
       "      <td>0.433779</td>\n",
       "      <td>0.015372</td>\n",
       "      <td>0.0</td>\n",
       "    </tr>\n",
       "    <tr>\n",
       "      <th>297</th>\n",
       "      <td>Sad</td>\n",
       "      <td>0.638695</td>\n",
       "      <td>0.513754</td>\n",
       "      <td>-1.214788</td>\n",
       "      <td>0.999053</td>\n",
       "      <td>0.666832</td>\n",
       "      <td>0.445460</td>\n",
       "      <td>-1.119525</td>\n",
       "      <td>0.998954</td>\n",
       "      <td>0.685278</td>\n",
       "      <td>...</td>\n",
       "      <td>-0.001511</td>\n",
       "      <td>0.0</td>\n",
       "      <td>0.698623</td>\n",
       "      <td>0.443171</td>\n",
       "      <td>0.015236</td>\n",
       "      <td>0.0</td>\n",
       "      <td>0.705537</td>\n",
       "      <td>0.434466</td>\n",
       "      <td>0.015782</td>\n",
       "      <td>0.0</td>\n",
       "    </tr>\n",
       "    <tr>\n",
       "      <th>298</th>\n",
       "      <td>Sad</td>\n",
       "      <td>0.638214</td>\n",
       "      <td>0.513341</td>\n",
       "      <td>-1.231593</td>\n",
       "      <td>0.999125</td>\n",
       "      <td>0.666180</td>\n",
       "      <td>0.445404</td>\n",
       "      <td>-1.138495</td>\n",
       "      <td>0.999008</td>\n",
       "      <td>0.684692</td>\n",
       "      <td>...</td>\n",
       "      <td>-0.001727</td>\n",
       "      <td>0.0</td>\n",
       "      <td>0.699074</td>\n",
       "      <td>0.443143</td>\n",
       "      <td>0.015386</td>\n",
       "      <td>0.0</td>\n",
       "      <td>0.706047</td>\n",
       "      <td>0.434376</td>\n",
       "      <td>0.015958</td>\n",
       "      <td>0.0</td>\n",
       "    </tr>\n",
       "    <tr>\n",
       "      <th>299</th>\n",
       "      <td>Sad</td>\n",
       "      <td>0.638420</td>\n",
       "      <td>0.512061</td>\n",
       "      <td>-1.227230</td>\n",
       "      <td>0.999193</td>\n",
       "      <td>0.666175</td>\n",
       "      <td>0.444950</td>\n",
       "      <td>-1.134112</td>\n",
       "      <td>0.999063</td>\n",
       "      <td>0.684612</td>\n",
       "      <td>...</td>\n",
       "      <td>-0.001627</td>\n",
       "      <td>0.0</td>\n",
       "      <td>0.698925</td>\n",
       "      <td>0.440489</td>\n",
       "      <td>0.015461</td>\n",
       "      <td>0.0</td>\n",
       "      <td>0.705779</td>\n",
       "      <td>0.431721</td>\n",
       "      <td>0.016005</td>\n",
       "      <td>0.0</td>\n",
       "    </tr>\n",
       "    <tr>\n",
       "      <th>300</th>\n",
       "      <td>Sad</td>\n",
       "      <td>0.638530</td>\n",
       "      <td>0.511126</td>\n",
       "      <td>-1.225649</td>\n",
       "      <td>0.999256</td>\n",
       "      <td>0.666173</td>\n",
       "      <td>0.444606</td>\n",
       "      <td>-1.132590</td>\n",
       "      <td>0.999116</td>\n",
       "      <td>0.684556</td>\n",
       "      <td>...</td>\n",
       "      <td>-0.001341</td>\n",
       "      <td>0.0</td>\n",
       "      <td>0.699113</td>\n",
       "      <td>0.440062</td>\n",
       "      <td>0.016006</td>\n",
       "      <td>0.0</td>\n",
       "      <td>0.705987</td>\n",
       "      <td>0.431316</td>\n",
       "      <td>0.016558</td>\n",
       "      <td>0.0</td>\n",
       "    </tr>\n",
       "  </tbody>\n",
       "</table>\n",
       "<p>184 rows × 2005 columns</p>\n",
       "</div>"
      ],
      "text/plain": [
       "    class        x1        y1        z1        v1        x2        y2  \\\n",
       "117   Sad  0.599312  0.511001 -1.740777  0.996578  0.640860  0.429814   \n",
       "118   Sad  0.596554  0.512242 -1.733215  0.996628  0.639130  0.429816   \n",
       "119   Sad  0.595668  0.512482 -1.712211  0.996636  0.638693  0.429779   \n",
       "120   Sad  0.593942  0.512464 -1.702640  0.996620  0.637338  0.429617   \n",
       "121   Sad  0.592540  0.512608 -1.676455  0.996568  0.636213  0.429610   \n",
       "..    ...       ...       ...       ...       ...       ...       ...   \n",
       "296   Sad  0.640127  0.515313 -1.216981  0.998960  0.668547  0.445988   \n",
       "297   Sad  0.638695  0.513754 -1.214788  0.999053  0.666832  0.445460   \n",
       "298   Sad  0.638214  0.513341 -1.231593  0.999125  0.666180  0.445404   \n",
       "299   Sad  0.638420  0.512061 -1.227230  0.999193  0.666175  0.444950   \n",
       "300   Sad  0.638530  0.511126 -1.225649  0.999256  0.666173  0.444606   \n",
       "\n",
       "           z2        v2        x3  ...      z499  v499      x500      y500  \\\n",
       "117 -1.629541  0.995594  0.664622  ... -0.004788   0.0  0.692289  0.411244   \n",
       "118 -1.624380  0.995583  0.664001  ... -0.005299   0.0  0.690664  0.409858   \n",
       "119 -1.601173  0.995619  0.663821  ... -0.004987   0.0  0.688907  0.410280   \n",
       "120 -1.593746  0.995558  0.662961  ... -0.005084   0.0  0.688348  0.411943   \n",
       "121 -1.571407  0.995409  0.662322  ... -0.005311   0.0  0.688898  0.411914   \n",
       "..        ...       ...       ...  ...       ...   ...       ...       ...   \n",
       "296 -1.121146  0.998864  0.686499  ... -0.001761   0.0  0.697966  0.442722   \n",
       "297 -1.119525  0.998954  0.685278  ... -0.001511   0.0  0.698623  0.443171   \n",
       "298 -1.138495  0.999008  0.684692  ... -0.001727   0.0  0.699074  0.443143   \n",
       "299 -1.134112  0.999063  0.684612  ... -0.001627   0.0  0.698925  0.440489   \n",
       "300 -1.132590  0.999116  0.684556  ... -0.001341   0.0  0.699113  0.440062   \n",
       "\n",
       "         z500  v500      x501      y501      z501  v501  \n",
       "117  0.018347   0.0  0.701035  0.402576  0.018632   0.0  \n",
       "118  0.018390   0.0  0.699184  0.401005  0.018837   0.0  \n",
       "119  0.017299   0.0  0.697364  0.401153  0.017716   0.0  \n",
       "120  0.016425   0.0  0.696901  0.402476  0.016834   0.0  \n",
       "121  0.016713   0.0  0.697509  0.402184  0.017176   0.0  \n",
       "..        ...   ...       ...       ...       ...   ...  \n",
       "296  0.014793   0.0  0.704872  0.433779  0.015372   0.0  \n",
       "297  0.015236   0.0  0.705537  0.434466  0.015782   0.0  \n",
       "298  0.015386   0.0  0.706047  0.434376  0.015958   0.0  \n",
       "299  0.015461   0.0  0.705779  0.431721  0.016005   0.0  \n",
       "300  0.016006   0.0  0.705987  0.431316  0.016558   0.0  \n",
       "\n",
       "[184 rows x 2005 columns]"
      ]
     },
     "execution_count": 162,
     "metadata": {},
     "output_type": "execute_result"
    }
   ],
   "source": [
    "df[df['class']=='Sad']"
   ]
  },
  {
   "cell_type": "code",
   "execution_count": 163,
   "id": "ece73cd6",
   "metadata": {},
   "outputs": [],
   "source": [
    "X = df.drop('class', axis=1) # features\n",
    "y = df['class'] # target value"
   ]
  },
  {
   "cell_type": "code",
   "execution_count": 164,
   "id": "b302a1b0",
   "metadata": {},
   "outputs": [],
   "source": [
    "X_train, X_test, y_train, y_test = train_test_split(X, y, test_size=0.3, random_state=1234)"
   ]
  },
  {
   "cell_type": "code",
   "execution_count": 165,
   "id": "1777fedc",
   "metadata": {},
   "outputs": [
    {
     "data": {
      "text/plain": [
       "387         Victorious\n",
       "653          Thumbs Up\n",
       "40               Happy\n",
       "913    Wakanda Forever\n",
       "766        Thumbs Down\n",
       "            ...       \n",
       "218                Sad\n",
       "581          Thumbs Up\n",
       "170                Sad\n",
       "688          Thumbs Up\n",
       "415         Victorious\n",
       "Name: class, Length: 294, dtype: object"
      ]
     },
     "execution_count": 165,
     "metadata": {},
     "output_type": "execute_result"
    }
   ],
   "source": [
    "y_test"
   ]
  },
  {
   "cell_type": "markdown",
   "id": "bde7282a",
   "metadata": {},
   "source": [
    "## 3.2 Train Machine Learning Classification Model"
   ]
  },
  {
   "cell_type": "code",
   "execution_count": 166,
   "id": "7dc1a45a",
   "metadata": {},
   "outputs": [],
   "source": [
    "from sklearn.pipeline import make_pipeline \n",
    "from sklearn.preprocessing import StandardScaler \n",
    "\n",
    "from sklearn.linear_model import LogisticRegression, RidgeClassifier\n",
    "from sklearn.ensemble import RandomForestClassifier, GradientBoostingClassifier"
   ]
  },
  {
   "cell_type": "code",
   "execution_count": 167,
   "id": "589403b4",
   "metadata": {},
   "outputs": [],
   "source": [
    "pipelines = {\n",
    "    'lr':make_pipeline(StandardScaler(), LogisticRegression()),\n",
    "    'rc':make_pipeline(StandardScaler(), RidgeClassifier()),\n",
    "    'rf':make_pipeline(StandardScaler(), RandomForestClassifier()),\n",
    "    'gb':make_pipeline(StandardScaler(), GradientBoostingClassifier()),\n",
    "}"
   ]
  },
  {
   "cell_type": "code",
   "execution_count": 174,
   "id": "c21c5b6c",
   "metadata": {},
   "outputs": [
    {
     "name": "stderr",
     "output_type": "stream",
     "text": [
      "C:\\Users\\Priyanshu Singh\\anaconda3\\lib\\site-packages\\sklearn\\linear_model\\_logistic.py:814: ConvergenceWarning: lbfgs failed to converge (status=1):\n",
      "STOP: TOTAL NO. of ITERATIONS REACHED LIMIT.\n",
      "\n",
      "Increase the number of iterations (max_iter) or scale the data as shown in:\n",
      "    https://scikit-learn.org/stable/modules/preprocessing.html\n",
      "Please also refer to the documentation for alternative solver options:\n",
      "    https://scikit-learn.org/stable/modules/linear_model.html#logistic-regression\n",
      "  n_iter_i = _check_optimize_result(\n"
     ]
    }
   ],
   "source": [
    "fit_models = {}\n",
    "for algo, pipeline in pipelines.items():\n",
    "    model = pipeline.fit(X_train, y_train)\n",
    "    fit_models[algo] = model"
   ]
  },
  {
   "cell_type": "code",
   "execution_count": 169,
   "id": "981043a8",
   "metadata": {},
   "outputs": [
    {
     "data": {
      "text/plain": [
       "{'lr': Pipeline(steps=[('standardscaler', StandardScaler()),\n",
       "                 ('logisticregression', LogisticRegression())]),\n",
       " 'rc': Pipeline(steps=[('standardscaler', StandardScaler()),\n",
       "                 ('ridgeclassifier', RidgeClassifier())]),\n",
       " 'rf': Pipeline(steps=[('standardscaler', StandardScaler()),\n",
       "                 ('randomforestclassifier', RandomForestClassifier())]),\n",
       " 'gb': Pipeline(steps=[('standardscaler', StandardScaler()),\n",
       "                 ('gradientboostingclassifier', GradientBoostingClassifier())])}"
      ]
     },
     "execution_count": 169,
     "metadata": {},
     "output_type": "execute_result"
    }
   ],
   "source": [
    "fit_models"
   ]
  },
  {
   "cell_type": "code",
   "execution_count": 175,
   "id": "6d4d4d96",
   "metadata": {},
   "outputs": [
    {
     "data": {
      "text/plain": [
       "array(['Victorious', 'Thumbs Up', 'Happy', 'Wakanda Forever',\n",
       "       'Thumbs Down', 'Sad', 'Sad', 'Happy', 'Wakanda Forever', 'Sad',\n",
       "       'Thumbs Up', 'Wakanda Forever', 'Wakanda Forever', 'Victorious',\n",
       "       'Wakanda Forever', 'Sad', 'Victorious', 'Thumbs Down', 'Thumbs Up',\n",
       "       'Thumbs Up', 'Happy', 'Sad', 'Victorious', 'Victorious', 'Sad',\n",
       "       'Sad', 'Wakanda Forever', 'Thumbs Up', 'Sad', 'Thumbs Up', 'Sad',\n",
       "       'Victorious', 'Sad', 'Wakanda Forever', 'Sad', 'Sad', 'Sad',\n",
       "       'Wakanda Forever', 'Happy', 'Thumbs Up', 'Sad', 'Thumbs Up', 'Sad',\n",
       "       'Thumbs Down', 'Sad', 'Thumbs Up', 'Thumbs Up', 'Wakanda Forever',\n",
       "       'Thumbs Up', 'Wakanda Forever', 'Victorious', 'Happy',\n",
       "       'Victorious', 'Happy', 'Sad', 'Thumbs Up', 'Thumbs Up', 'Sad',\n",
       "       'Wakanda Forever', 'Thumbs Down', 'Thumbs Down', 'Victorious',\n",
       "       'Thumbs Up', 'Thumbs Up', 'Sad', 'Thumbs Up', 'Wakanda Forever',\n",
       "       'Sad', 'Thumbs Up', 'Sad', 'Sad', 'Sad', 'Victorious',\n",
       "       'Thumbs Down', 'Victorious', 'Wakanda Forever', 'Victorious',\n",
       "       'Thumbs Down', 'Victorious', 'Happy', 'Wakanda Forever',\n",
       "       'Thumbs Down', 'Wakanda Forever', 'Thumbs Up', 'Victorious',\n",
       "       'Wakanda Forever', 'Victorious', 'Sad', 'Sad', 'Victorious',\n",
       "       'Thumbs Up', 'Victorious', 'Sad', 'Victorious', 'Thumbs Up',\n",
       "       'Happy', 'Victorious', 'Thumbs Down', 'Sad', 'Sad',\n",
       "       'Wakanda Forever', 'Victorious', 'Thumbs Up', 'Wakanda Forever',\n",
       "       'Victorious', 'Wakanda Forever', 'Happy', 'Victorious',\n",
       "       'Victorious', 'Victorious', 'Victorious', 'Thumbs Up',\n",
       "       'Victorious', 'Victorious', 'Happy', 'Wakanda Forever', 'Sad',\n",
       "       'Happy', 'Victorious', 'Victorious', 'Sad', 'Thumbs Up',\n",
       "       'Victorious', 'Victorious', 'Thumbs Up', 'Wakanda Forever',\n",
       "       'Wakanda Forever', 'Sad', 'Thumbs Up', 'Thumbs Up',\n",
       "       'Wakanda Forever', 'Victorious', 'Wakanda Forever', 'Sad', 'Sad',\n",
       "       'Wakanda Forever', 'Happy', 'Thumbs Down', 'Victorious',\n",
       "       'Thumbs Down', 'Victorious', 'Victorious', 'Sad', 'Victorious',\n",
       "       'Wakanda Forever', 'Wakanda Forever', 'Wakanda Forever', 'Sad',\n",
       "       'Happy', 'Happy', 'Victorious', 'Wakanda Forever', 'Victorious',\n",
       "       'Sad', 'Victorious', 'Victorious', 'Sad', 'Victorious',\n",
       "       'Thumbs Down', 'Victorious', 'Thumbs Up', 'Sad', 'Victorious',\n",
       "       'Victorious', 'Thumbs Down', 'Sad', 'Happy', 'Victorious',\n",
       "       'Victorious', 'Thumbs Up', 'Wakanda Forever', 'Thumbs Down',\n",
       "       'Victorious', 'Victorious', 'Sad', 'Happy', 'Sad', 'Happy', 'Sad',\n",
       "       'Wakanda Forever', 'Victorious', 'Thumbs Up', 'Happy',\n",
       "       'Victorious', 'Happy', 'Victorious', 'Wakanda Forever',\n",
       "       'Thumbs Down', 'Happy', 'Victorious', 'Happy', 'Victorious',\n",
       "       'Thumbs Down', 'Thumbs Up', 'Happy', 'Victorious', 'Sad',\n",
       "       'Victorious', 'Victorious', 'Wakanda Forever', 'Victorious',\n",
       "       'Victorious', 'Victorious', 'Sad', 'Thumbs Down', 'Victorious',\n",
       "       'Victorious', 'Victorious', 'Wakanda Forever', 'Sad', 'Thumbs Up',\n",
       "       'Sad', 'Victorious', 'Thumbs Up', 'Victorious', 'Thumbs Down',\n",
       "       'Thumbs Down', 'Sad', 'Victorious', 'Victorious', 'Sad', 'Happy',\n",
       "       'Sad', 'Wakanda Forever', 'Sad', 'Happy', 'Victorious',\n",
       "       'Thumbs Down', 'Victorious', 'Thumbs Up', 'Thumbs Up',\n",
       "       'Victorious', 'Thumbs Up', 'Thumbs Up', 'Wakanda Forever', 'Sad',\n",
       "       'Happy', 'Victorious', 'Wakanda Forever', 'Victorious', 'Sad',\n",
       "       'Thumbs Down', 'Wakanda Forever', 'Thumbs Down', 'Sad', 'Sad',\n",
       "       'Victorious', 'Wakanda Forever', 'Happy', 'Happy', 'Happy',\n",
       "       'Victorious', 'Thumbs Up', 'Wakanda Forever', 'Victorious',\n",
       "       'Happy', 'Victorious', 'Sad', 'Thumbs Up', 'Thumbs Up',\n",
       "       'Wakanda Forever', 'Thumbs Down', 'Happy', 'Victorious', 'Sad',\n",
       "       'Sad', 'Happy', 'Victorious', 'Thumbs Up', 'Sad', 'Thumbs Up',\n",
       "       'Thumbs Up', 'Thumbs Up', 'Thumbs Down', 'Thumbs Down',\n",
       "       'Wakanda Forever', 'Sad', 'Wakanda Forever', 'Sad', 'Thumbs Up',\n",
       "       'Happy', 'Wakanda Forever', 'Victorious', 'Sad', 'Victorious',\n",
       "       'Sad', 'Wakanda Forever', 'Happy', 'Thumbs Down', 'Sad',\n",
       "       'Thumbs Up', 'Sad', 'Thumbs Up', 'Victorious'], dtype='<U15')"
      ]
     },
     "execution_count": 175,
     "metadata": {},
     "output_type": "execute_result"
    }
   ],
   "source": [
    "fit_models['rc'].predict(X_test)\n"
   ]
  },
  {
   "cell_type": "markdown",
   "id": "433bba99",
   "metadata": {},
   "source": [
    "## Evaluate and Serialize Model"
   ]
  },
  {
   "cell_type": "code",
   "execution_count": 176,
   "id": "f3c5c216",
   "metadata": {},
   "outputs": [],
   "source": [
    "from sklearn.metrics import accuracy_score # Accuracy metrics \n",
    "import pickle \n"
   ]
  },
  {
   "cell_type": "code",
   "execution_count": 177,
   "id": "377b6e67",
   "metadata": {},
   "outputs": [
    {
     "name": "stdout",
     "output_type": "stream",
     "text": [
      "lr 1.0\n",
      "rc 1.0\n",
      "rf 1.0\n",
      "gb 1.0\n"
     ]
    }
   ],
   "source": [
    "for algo, model in fit_models.items():\n",
    "    yhat = model.predict(X_test)\n",
    "    print(algo, accuracy_score(y_test, yhat))"
   ]
  },
  {
   "cell_type": "code",
   "execution_count": 178,
   "id": "9a95e248",
   "metadata": {},
   "outputs": [
    {
     "data": {
      "text/plain": [
       "array(['Victorious', 'Thumbs Up', 'Happy', 'Wakanda Forever',\n",
       "       'Thumbs Down', 'Sad', 'Sad', 'Happy', 'Wakanda Forever', 'Sad',\n",
       "       'Thumbs Up', 'Wakanda Forever', 'Wakanda Forever', 'Victorious',\n",
       "       'Wakanda Forever', 'Sad', 'Victorious', 'Thumbs Down', 'Thumbs Up',\n",
       "       'Thumbs Up', 'Happy', 'Sad', 'Victorious', 'Victorious', 'Sad',\n",
       "       'Sad', 'Wakanda Forever', 'Thumbs Up', 'Sad', 'Thumbs Up', 'Sad',\n",
       "       'Victorious', 'Sad', 'Wakanda Forever', 'Sad', 'Sad', 'Sad',\n",
       "       'Wakanda Forever', 'Happy', 'Thumbs Up', 'Sad', 'Thumbs Up', 'Sad',\n",
       "       'Thumbs Down', 'Sad', 'Thumbs Up', 'Thumbs Up', 'Wakanda Forever',\n",
       "       'Thumbs Up', 'Wakanda Forever', 'Victorious', 'Happy',\n",
       "       'Victorious', 'Happy', 'Sad', 'Thumbs Up', 'Thumbs Up', 'Sad',\n",
       "       'Wakanda Forever', 'Thumbs Down', 'Thumbs Down', 'Victorious',\n",
       "       'Thumbs Up', 'Thumbs Up', 'Sad', 'Thumbs Up', 'Wakanda Forever',\n",
       "       'Sad', 'Thumbs Up', 'Sad', 'Sad', 'Sad', 'Victorious',\n",
       "       'Thumbs Down', 'Victorious', 'Wakanda Forever', 'Victorious',\n",
       "       'Thumbs Down', 'Victorious', 'Happy', 'Wakanda Forever',\n",
       "       'Thumbs Down', 'Wakanda Forever', 'Thumbs Up', 'Victorious',\n",
       "       'Wakanda Forever', 'Victorious', 'Sad', 'Sad', 'Victorious',\n",
       "       'Thumbs Up', 'Victorious', 'Sad', 'Victorious', 'Thumbs Up',\n",
       "       'Happy', 'Victorious', 'Thumbs Down', 'Sad', 'Sad',\n",
       "       'Wakanda Forever', 'Victorious', 'Thumbs Up', 'Wakanda Forever',\n",
       "       'Victorious', 'Wakanda Forever', 'Happy', 'Victorious',\n",
       "       'Victorious', 'Victorious', 'Victorious', 'Thumbs Up',\n",
       "       'Victorious', 'Victorious', 'Happy', 'Wakanda Forever', 'Sad',\n",
       "       'Happy', 'Victorious', 'Victorious', 'Sad', 'Thumbs Up',\n",
       "       'Victorious', 'Victorious', 'Thumbs Up', 'Wakanda Forever',\n",
       "       'Wakanda Forever', 'Sad', 'Thumbs Up', 'Thumbs Up',\n",
       "       'Wakanda Forever', 'Victorious', 'Wakanda Forever', 'Sad', 'Sad',\n",
       "       'Wakanda Forever', 'Happy', 'Thumbs Down', 'Victorious',\n",
       "       'Thumbs Down', 'Victorious', 'Victorious', 'Sad', 'Victorious',\n",
       "       'Wakanda Forever', 'Wakanda Forever', 'Wakanda Forever', 'Sad',\n",
       "       'Happy', 'Happy', 'Victorious', 'Wakanda Forever', 'Victorious',\n",
       "       'Sad', 'Victorious', 'Victorious', 'Sad', 'Victorious',\n",
       "       'Thumbs Down', 'Victorious', 'Thumbs Up', 'Sad', 'Victorious',\n",
       "       'Victorious', 'Thumbs Down', 'Sad', 'Happy', 'Victorious',\n",
       "       'Victorious', 'Thumbs Up', 'Wakanda Forever', 'Thumbs Down',\n",
       "       'Victorious', 'Victorious', 'Sad', 'Happy', 'Sad', 'Happy', 'Sad',\n",
       "       'Wakanda Forever', 'Victorious', 'Thumbs Up', 'Happy',\n",
       "       'Victorious', 'Happy', 'Victorious', 'Wakanda Forever',\n",
       "       'Thumbs Down', 'Happy', 'Victorious', 'Happy', 'Victorious',\n",
       "       'Thumbs Down', 'Thumbs Up', 'Happy', 'Victorious', 'Sad',\n",
       "       'Victorious', 'Victorious', 'Wakanda Forever', 'Victorious',\n",
       "       'Victorious', 'Victorious', 'Sad', 'Thumbs Down', 'Victorious',\n",
       "       'Victorious', 'Victorious', 'Wakanda Forever', 'Sad', 'Thumbs Up',\n",
       "       'Sad', 'Victorious', 'Thumbs Up', 'Victorious', 'Thumbs Down',\n",
       "       'Thumbs Down', 'Sad', 'Victorious', 'Victorious', 'Sad', 'Happy',\n",
       "       'Sad', 'Wakanda Forever', 'Sad', 'Happy', 'Victorious',\n",
       "       'Thumbs Down', 'Victorious', 'Thumbs Up', 'Thumbs Up',\n",
       "       'Victorious', 'Thumbs Up', 'Thumbs Up', 'Wakanda Forever', 'Sad',\n",
       "       'Happy', 'Victorious', 'Wakanda Forever', 'Victorious', 'Sad',\n",
       "       'Thumbs Down', 'Wakanda Forever', 'Thumbs Down', 'Sad', 'Sad',\n",
       "       'Victorious', 'Wakanda Forever', 'Happy', 'Happy', 'Happy',\n",
       "       'Victorious', 'Thumbs Up', 'Wakanda Forever', 'Victorious',\n",
       "       'Happy', 'Victorious', 'Sad', 'Thumbs Up', 'Thumbs Up',\n",
       "       'Wakanda Forever', 'Thumbs Down', 'Happy', 'Victorious', 'Sad',\n",
       "       'Sad', 'Happy', 'Victorious', 'Thumbs Up', 'Sad', 'Thumbs Up',\n",
       "       'Thumbs Up', 'Thumbs Up', 'Thumbs Down', 'Thumbs Down',\n",
       "       'Wakanda Forever', 'Sad', 'Wakanda Forever', 'Sad', 'Thumbs Up',\n",
       "       'Happy', 'Wakanda Forever', 'Victorious', 'Sad', 'Victorious',\n",
       "       'Sad', 'Wakanda Forever', 'Happy', 'Thumbs Down', 'Sad',\n",
       "       'Thumbs Up', 'Sad', 'Thumbs Up', 'Victorious'], dtype=object)"
      ]
     },
     "execution_count": 178,
     "metadata": {},
     "output_type": "execute_result"
    }
   ],
   "source": [
    "fit_models['rf'].predict(X_test)"
   ]
  },
  {
   "cell_type": "code",
   "execution_count": 179,
   "id": "f4239163",
   "metadata": {},
   "outputs": [
    {
     "data": {
      "text/plain": [
       "387         Victorious\n",
       "653          Thumbs Up\n",
       "40               Happy\n",
       "913    Wakanda Forever\n",
       "766        Thumbs Down\n",
       "            ...       \n",
       "218                Sad\n",
       "581          Thumbs Up\n",
       "170                Sad\n",
       "688          Thumbs Up\n",
       "415         Victorious\n",
       "Name: class, Length: 294, dtype: object"
      ]
     },
     "execution_count": 179,
     "metadata": {},
     "output_type": "execute_result"
    }
   ],
   "source": [
    "y_test"
   ]
  },
  {
   "cell_type": "code",
   "execution_count": 180,
   "id": "37d8f67f",
   "metadata": {},
   "outputs": [],
   "source": [
    "with open('body_language.pkl', 'wb') as f:\n",
    "    pickle.dump(fit_models['rf'], f)"
   ]
  },
  {
   "cell_type": "markdown",
   "id": "fe9cdf51",
   "metadata": {},
   "source": [
    "## 4. Make Detections with Model"
   ]
  },
  {
   "cell_type": "code",
   "execution_count": 181,
   "id": "8c844b12",
   "metadata": {},
   "outputs": [],
   "source": [
    "with open('body_language.pkl', 'rb') as f:\n",
    "    model = pickle.load(f)"
   ]
  },
  {
   "cell_type": "code",
   "execution_count": 182,
   "id": "718ca86f",
   "metadata": {},
   "outputs": [
    {
     "data": {
      "text/plain": [
       "Pipeline(steps=[('standardscaler', StandardScaler()),\n",
       "                ('randomforestclassifier', RandomForestClassifier())])"
      ]
     },
     "execution_count": 182,
     "metadata": {},
     "output_type": "execute_result"
    }
   ],
   "source": [
    "model"
   ]
  },
  {
   "cell_type": "code",
   "execution_count": 187,
   "id": "2d7a14de",
   "metadata": {},
   "outputs": [
    {
     "name": "stderr",
     "output_type": "stream",
     "text": [
      "C:\\Users\\Priyanshu Singh\\anaconda3\\lib\\site-packages\\sklearn\\base.py:450: UserWarning: X does not have valid feature names, but StandardScaler was fitted with feature names\n",
      "  warnings.warn(\n",
      "C:\\Users\\Priyanshu Singh\\anaconda3\\lib\\site-packages\\sklearn\\base.py:450: UserWarning: X does not have valid feature names, but StandardScaler was fitted with feature names\n",
      "  warnings.warn(\n"
     ]
    },
    {
     "name": "stdout",
     "output_type": "stream",
     "text": [
      "Sad [0.06 0.67 0.08 0.14 0.01 0.04]\n"
     ]
    },
    {
     "name": "stderr",
     "output_type": "stream",
     "text": [
      "C:\\Users\\Priyanshu Singh\\anaconda3\\lib\\site-packages\\sklearn\\base.py:450: UserWarning: X does not have valid feature names, but StandardScaler was fitted with feature names\n",
      "  warnings.warn(\n",
      "C:\\Users\\Priyanshu Singh\\anaconda3\\lib\\site-packages\\sklearn\\base.py:450: UserWarning: X does not have valid feature names, but StandardScaler was fitted with feature names\n",
      "  warnings.warn(\n",
      "C:\\Users\\Priyanshu Singh\\anaconda3\\lib\\site-packages\\sklearn\\base.py:450: UserWarning: X does not have valid feature names, but StandardScaler was fitted with feature names\n",
      "  warnings.warn(\n"
     ]
    },
    {
     "name": "stdout",
     "output_type": "stream",
     "text": [
      "Sad [0.   0.86 0.01 0.11 0.02 0.  ]\n"
     ]
    },
    {
     "name": "stderr",
     "output_type": "stream",
     "text": [
      "C:\\Users\\Priyanshu Singh\\anaconda3\\lib\\site-packages\\sklearn\\base.py:450: UserWarning: X does not have valid feature names, but StandardScaler was fitted with feature names\n",
      "  warnings.warn(\n",
      "C:\\Users\\Priyanshu Singh\\anaconda3\\lib\\site-packages\\sklearn\\base.py:450: UserWarning: X does not have valid feature names, but StandardScaler was fitted with feature names\n",
      "  warnings.warn(\n",
      "C:\\Users\\Priyanshu Singh\\anaconda3\\lib\\site-packages\\sklearn\\base.py:450: UserWarning: X does not have valid feature names, but StandardScaler was fitted with feature names\n",
      "  warnings.warn(\n"
     ]
    },
    {
     "name": "stdout",
     "output_type": "stream",
     "text": [
      "Sad [0.22 0.43 0.07 0.18 0.08 0.02]\n",
      "Sad [0.19 0.51 0.09 0.16 0.03 0.02]\n"
     ]
    },
    {
     "name": "stderr",
     "output_type": "stream",
     "text": [
      "C:\\Users\\Priyanshu Singh\\anaconda3\\lib\\site-packages\\sklearn\\base.py:450: UserWarning: X does not have valid feature names, but StandardScaler was fitted with feature names\n",
      "  warnings.warn(\n",
      "C:\\Users\\Priyanshu Singh\\anaconda3\\lib\\site-packages\\sklearn\\base.py:450: UserWarning: X does not have valid feature names, but StandardScaler was fitted with feature names\n",
      "  warnings.warn(\n",
      "C:\\Users\\Priyanshu Singh\\anaconda3\\lib\\site-packages\\sklearn\\base.py:450: UserWarning: X does not have valid feature names, but StandardScaler was fitted with feature names\n",
      "  warnings.warn(\n",
      "C:\\Users\\Priyanshu Singh\\anaconda3\\lib\\site-packages\\sklearn\\base.py:450: UserWarning: X does not have valid feature names, but StandardScaler was fitted with feature names\n",
      "  warnings.warn(\n"
     ]
    },
    {
     "name": "stdout",
     "output_type": "stream",
     "text": [
      "Sad [0.3  0.34 0.09 0.19 0.06 0.02]\n",
      "Happy [0.35 0.28 0.07 0.21 0.07 0.02]\n"
     ]
    },
    {
     "name": "stderr",
     "output_type": "stream",
     "text": [
      "C:\\Users\\Priyanshu Singh\\anaconda3\\lib\\site-packages\\sklearn\\base.py:450: UserWarning: X does not have valid feature names, but StandardScaler was fitted with feature names\n",
      "  warnings.warn(\n",
      "C:\\Users\\Priyanshu Singh\\anaconda3\\lib\\site-packages\\sklearn\\base.py:450: UserWarning: X does not have valid feature names, but StandardScaler was fitted with feature names\n",
      "  warnings.warn(\n",
      "C:\\Users\\Priyanshu Singh\\anaconda3\\lib\\site-packages\\sklearn\\base.py:450: UserWarning: X does not have valid feature names, but StandardScaler was fitted with feature names\n",
      "  warnings.warn(\n",
      "C:\\Users\\Priyanshu Singh\\anaconda3\\lib\\site-packages\\sklearn\\base.py:450: UserWarning: X does not have valid feature names, but StandardScaler was fitted with feature names\n",
      "  warnings.warn(\n"
     ]
    },
    {
     "name": "stdout",
     "output_type": "stream",
     "text": [
      "Sad [0.21 0.45 0.09 0.18 0.05 0.02]\n",
      "Happy [0.34 0.26 0.06 0.25 0.08 0.01]\n"
     ]
    },
    {
     "name": "stderr",
     "output_type": "stream",
     "text": [
      "C:\\Users\\Priyanshu Singh\\anaconda3\\lib\\site-packages\\sklearn\\base.py:450: UserWarning: X does not have valid feature names, but StandardScaler was fitted with feature names\n",
      "  warnings.warn(\n",
      "C:\\Users\\Priyanshu Singh\\anaconda3\\lib\\site-packages\\sklearn\\base.py:450: UserWarning: X does not have valid feature names, but StandardScaler was fitted with feature names\n",
      "  warnings.warn(\n",
      "C:\\Users\\Priyanshu Singh\\anaconda3\\lib\\site-packages\\sklearn\\base.py:450: UserWarning: X does not have valid feature names, but StandardScaler was fitted with feature names\n",
      "  warnings.warn(\n",
      "C:\\Users\\Priyanshu Singh\\anaconda3\\lib\\site-packages\\sklearn\\base.py:450: UserWarning: X does not have valid feature names, but StandardScaler was fitted with feature names\n",
      "  warnings.warn(\n"
     ]
    },
    {
     "name": "stdout",
     "output_type": "stream",
     "text": [
      "Sad [0.28 0.38 0.09 0.18 0.05 0.02]\n",
      "Sad [0.26 0.43 0.09 0.17 0.04 0.01]\n"
     ]
    },
    {
     "name": "stderr",
     "output_type": "stream",
     "text": [
      "C:\\Users\\Priyanshu Singh\\anaconda3\\lib\\site-packages\\sklearn\\base.py:450: UserWarning: X does not have valid feature names, but StandardScaler was fitted with feature names\n",
      "  warnings.warn(\n",
      "C:\\Users\\Priyanshu Singh\\anaconda3\\lib\\site-packages\\sklearn\\base.py:450: UserWarning: X does not have valid feature names, but StandardScaler was fitted with feature names\n",
      "  warnings.warn(\n",
      "C:\\Users\\Priyanshu Singh\\anaconda3\\lib\\site-packages\\sklearn\\base.py:450: UserWarning: X does not have valid feature names, but StandardScaler was fitted with feature names\n",
      "  warnings.warn(\n",
      "C:\\Users\\Priyanshu Singh\\anaconda3\\lib\\site-packages\\sklearn\\base.py:450: UserWarning: X does not have valid feature names, but StandardScaler was fitted with feature names\n",
      "  warnings.warn(\n"
     ]
    },
    {
     "name": "stdout",
     "output_type": "stream",
     "text": [
      "Sad [0.21 0.47 0.09 0.17 0.05 0.01]\n",
      "Sad [0.32 0.34 0.07 0.2  0.06 0.01]\n"
     ]
    },
    {
     "name": "stderr",
     "output_type": "stream",
     "text": [
      "C:\\Users\\Priyanshu Singh\\anaconda3\\lib\\site-packages\\sklearn\\base.py:450: UserWarning: X does not have valid feature names, but StandardScaler was fitted with feature names\n",
      "  warnings.warn(\n",
      "C:\\Users\\Priyanshu Singh\\anaconda3\\lib\\site-packages\\sklearn\\base.py:450: UserWarning: X does not have valid feature names, but StandardScaler was fitted with feature names\n",
      "  warnings.warn(\n",
      "C:\\Users\\Priyanshu Singh\\anaconda3\\lib\\site-packages\\sklearn\\base.py:450: UserWarning: X does not have valid feature names, but StandardScaler was fitted with feature names\n",
      "  warnings.warn(\n",
      "C:\\Users\\Priyanshu Singh\\anaconda3\\lib\\site-packages\\sklearn\\base.py:450: UserWarning: X does not have valid feature names, but StandardScaler was fitted with feature names\n",
      "  warnings.warn(\n"
     ]
    },
    {
     "name": "stdout",
     "output_type": "stream",
     "text": [
      "Thumbs Up [0.31 0.09 0.01 0.44 0.08 0.07]\n",
      "Thumbs Up [0.37 0.04 0.   0.45 0.04 0.1 ]\n"
     ]
    },
    {
     "name": "stderr",
     "output_type": "stream",
     "text": [
      "C:\\Users\\Priyanshu Singh\\anaconda3\\lib\\site-packages\\sklearn\\base.py:450: UserWarning: X does not have valid feature names, but StandardScaler was fitted with feature names\n",
      "  warnings.warn(\n",
      "C:\\Users\\Priyanshu Singh\\anaconda3\\lib\\site-packages\\sklearn\\base.py:450: UserWarning: X does not have valid feature names, but StandardScaler was fitted with feature names\n",
      "  warnings.warn(\n",
      "C:\\Users\\Priyanshu Singh\\anaconda3\\lib\\site-packages\\sklearn\\base.py:450: UserWarning: X does not have valid feature names, but StandardScaler was fitted with feature names\n",
      "  warnings.warn(\n",
      "C:\\Users\\Priyanshu Singh\\anaconda3\\lib\\site-packages\\sklearn\\base.py:450: UserWarning: X does not have valid feature names, but StandardScaler was fitted with feature names\n",
      "  warnings.warn(\n"
     ]
    },
    {
     "name": "stdout",
     "output_type": "stream",
     "text": [
      "Thumbs Up [0.27 0.09 0.   0.52 0.02 0.1 ]\n",
      "Thumbs Up [0.32 0.12 0.   0.42 0.04 0.1 ]\n"
     ]
    },
    {
     "name": "stderr",
     "output_type": "stream",
     "text": [
      "C:\\Users\\Priyanshu Singh\\anaconda3\\lib\\site-packages\\sklearn\\base.py:450: UserWarning: X does not have valid feature names, but StandardScaler was fitted with feature names\n",
      "  warnings.warn(\n",
      "C:\\Users\\Priyanshu Singh\\anaconda3\\lib\\site-packages\\sklearn\\base.py:450: UserWarning: X does not have valid feature names, but StandardScaler was fitted with feature names\n",
      "  warnings.warn(\n",
      "C:\\Users\\Priyanshu Singh\\anaconda3\\lib\\site-packages\\sklearn\\base.py:450: UserWarning: X does not have valid feature names, but StandardScaler was fitted with feature names\n",
      "  warnings.warn(\n",
      "C:\\Users\\Priyanshu Singh\\anaconda3\\lib\\site-packages\\sklearn\\base.py:450: UserWarning: X does not have valid feature names, but StandardScaler was fitted with feature names\n",
      "  warnings.warn(\n"
     ]
    },
    {
     "name": "stdout",
     "output_type": "stream",
     "text": [
      "Thumbs Up [0.22 0.3  0.03 0.35 0.01 0.09]\n",
      "Sad [0.02 0.48 0.02 0.02 0.43 0.03]\n"
     ]
    },
    {
     "name": "stderr",
     "output_type": "stream",
     "text": [
      "C:\\Users\\Priyanshu Singh\\anaconda3\\lib\\site-packages\\sklearn\\base.py:450: UserWarning: X does not have valid feature names, but StandardScaler was fitted with feature names\n",
      "  warnings.warn(\n",
      "C:\\Users\\Priyanshu Singh\\anaconda3\\lib\\site-packages\\sklearn\\base.py:450: UserWarning: X does not have valid feature names, but StandardScaler was fitted with feature names\n",
      "  warnings.warn(\n",
      "C:\\Users\\Priyanshu Singh\\anaconda3\\lib\\site-packages\\sklearn\\base.py:450: UserWarning: X does not have valid feature names, but StandardScaler was fitted with feature names\n",
      "  warnings.warn(\n",
      "C:\\Users\\Priyanshu Singh\\anaconda3\\lib\\site-packages\\sklearn\\base.py:450: UserWarning: X does not have valid feature names, but StandardScaler was fitted with feature names\n",
      "  warnings.warn(\n"
     ]
    },
    {
     "name": "stdout",
     "output_type": "stream",
     "text": [
      "Sad [0.02 0.51 0.03 0.02 0.39 0.03]\n",
      "Sad [0.02 0.51 0.02 0.02 0.4  0.03]\n"
     ]
    },
    {
     "name": "stderr",
     "output_type": "stream",
     "text": [
      "C:\\Users\\Priyanshu Singh\\anaconda3\\lib\\site-packages\\sklearn\\base.py:450: UserWarning: X does not have valid feature names, but StandardScaler was fitted with feature names\n",
      "  warnings.warn(\n",
      "C:\\Users\\Priyanshu Singh\\anaconda3\\lib\\site-packages\\sklearn\\base.py:450: UserWarning: X does not have valid feature names, but StandardScaler was fitted with feature names\n",
      "  warnings.warn(\n",
      "C:\\Users\\Priyanshu Singh\\anaconda3\\lib\\site-packages\\sklearn\\base.py:450: UserWarning: X does not have valid feature names, but StandardScaler was fitted with feature names\n",
      "  warnings.warn(\n",
      "C:\\Users\\Priyanshu Singh\\anaconda3\\lib\\site-packages\\sklearn\\base.py:450: UserWarning: X does not have valid feature names, but StandardScaler was fitted with feature names\n",
      "  warnings.warn(\n"
     ]
    },
    {
     "name": "stdout",
     "output_type": "stream",
     "text": [
      "Victorious [0.02 0.37 0.01 0.05 0.52 0.03]\n",
      "Thumbs Up [0.27 0.17 0.   0.37 0.04 0.15]\n"
     ]
    },
    {
     "name": "stderr",
     "output_type": "stream",
     "text": [
      "C:\\Users\\Priyanshu Singh\\anaconda3\\lib\\site-packages\\sklearn\\base.py:450: UserWarning: X does not have valid feature names, but StandardScaler was fitted with feature names\n",
      "  warnings.warn(\n",
      "C:\\Users\\Priyanshu Singh\\anaconda3\\lib\\site-packages\\sklearn\\base.py:450: UserWarning: X does not have valid feature names, but StandardScaler was fitted with feature names\n",
      "  warnings.warn(\n",
      "C:\\Users\\Priyanshu Singh\\anaconda3\\lib\\site-packages\\sklearn\\base.py:450: UserWarning: X does not have valid feature names, but StandardScaler was fitted with feature names\n",
      "  warnings.warn(\n",
      "C:\\Users\\Priyanshu Singh\\anaconda3\\lib\\site-packages\\sklearn\\base.py:450: UserWarning: X does not have valid feature names, but StandardScaler was fitted with feature names\n",
      "  warnings.warn(\n"
     ]
    },
    {
     "name": "stdout",
     "output_type": "stream",
     "text": [
      "Thumbs Up [0.24 0.15 0.   0.37 0.07 0.17]\n",
      "Thumbs Up [0.27 0.13 0.02 0.38 0.01 0.19]\n"
     ]
    },
    {
     "name": "stderr",
     "output_type": "stream",
     "text": [
      "C:\\Users\\Priyanshu Singh\\anaconda3\\lib\\site-packages\\sklearn\\base.py:450: UserWarning: X does not have valid feature names, but StandardScaler was fitted with feature names\n",
      "  warnings.warn(\n",
      "C:\\Users\\Priyanshu Singh\\anaconda3\\lib\\site-packages\\sklearn\\base.py:450: UserWarning: X does not have valid feature names, but StandardScaler was fitted with feature names\n",
      "  warnings.warn(\n",
      "C:\\Users\\Priyanshu Singh\\anaconda3\\lib\\site-packages\\sklearn\\base.py:450: UserWarning: X does not have valid feature names, but StandardScaler was fitted with feature names\n",
      "  warnings.warn(\n",
      "C:\\Users\\Priyanshu Singh\\anaconda3\\lib\\site-packages\\sklearn\\base.py:450: UserWarning: X does not have valid feature names, but StandardScaler was fitted with feature names\n",
      "  warnings.warn(\n"
     ]
    },
    {
     "name": "stdout",
     "output_type": "stream",
     "text": [
      "Thumbs Up [0.29 0.11 0.02 0.39 0.02 0.17]\n",
      "Thumbs Up [0.28 0.11 0.04 0.4  0.02 0.15]\n"
     ]
    },
    {
     "name": "stderr",
     "output_type": "stream",
     "text": [
      "C:\\Users\\Priyanshu Singh\\anaconda3\\lib\\site-packages\\sklearn\\base.py:450: UserWarning: X does not have valid feature names, but StandardScaler was fitted with feature names\n",
      "  warnings.warn(\n",
      "C:\\Users\\Priyanshu Singh\\anaconda3\\lib\\site-packages\\sklearn\\base.py:450: UserWarning: X does not have valid feature names, but StandardScaler was fitted with feature names\n",
      "  warnings.warn(\n",
      "C:\\Users\\Priyanshu Singh\\anaconda3\\lib\\site-packages\\sklearn\\base.py:450: UserWarning: X does not have valid feature names, but StandardScaler was fitted with feature names\n",
      "  warnings.warn(\n",
      "C:\\Users\\Priyanshu Singh\\anaconda3\\lib\\site-packages\\sklearn\\base.py:450: UserWarning: X does not have valid feature names, but StandardScaler was fitted with feature names\n",
      "  warnings.warn(\n"
     ]
    },
    {
     "name": "stdout",
     "output_type": "stream",
     "text": [
      "Thumbs Up [0.26 0.13 0.02 0.4  0.02 0.17]\n",
      "Thumbs Up [0.27 0.12 0.1  0.35 0.01 0.15]\n"
     ]
    },
    {
     "name": "stderr",
     "output_type": "stream",
     "text": [
      "C:\\Users\\Priyanshu Singh\\anaconda3\\lib\\site-packages\\sklearn\\base.py:450: UserWarning: X does not have valid feature names, but StandardScaler was fitted with feature names\n",
      "  warnings.warn(\n",
      "C:\\Users\\Priyanshu Singh\\anaconda3\\lib\\site-packages\\sklearn\\base.py:450: UserWarning: X does not have valid feature names, but StandardScaler was fitted with feature names\n",
      "  warnings.warn(\n",
      "C:\\Users\\Priyanshu Singh\\anaconda3\\lib\\site-packages\\sklearn\\base.py:450: UserWarning: X does not have valid feature names, but StandardScaler was fitted with feature names\n",
      "  warnings.warn(\n",
      "C:\\Users\\Priyanshu Singh\\anaconda3\\lib\\site-packages\\sklearn\\base.py:450: UserWarning: X does not have valid feature names, but StandardScaler was fitted with feature names\n",
      "  warnings.warn(\n"
     ]
    },
    {
     "name": "stdout",
     "output_type": "stream",
     "text": [
      "Thumbs Up [0.27 0.14 0.06 0.37 0.01 0.15]\n",
      "Thumbs Up [0.24 0.17 0.   0.41 0.03 0.15]\n"
     ]
    },
    {
     "name": "stderr",
     "output_type": "stream",
     "text": [
      "C:\\Users\\Priyanshu Singh\\anaconda3\\lib\\site-packages\\sklearn\\base.py:450: UserWarning: X does not have valid feature names, but StandardScaler was fitted with feature names\n",
      "  warnings.warn(\n",
      "C:\\Users\\Priyanshu Singh\\anaconda3\\lib\\site-packages\\sklearn\\base.py:450: UserWarning: X does not have valid feature names, but StandardScaler was fitted with feature names\n",
      "  warnings.warn(\n",
      "C:\\Users\\Priyanshu Singh\\anaconda3\\lib\\site-packages\\sklearn\\base.py:450: UserWarning: X does not have valid feature names, but StandardScaler was fitted with feature names\n",
      "  warnings.warn(\n",
      "C:\\Users\\Priyanshu Singh\\anaconda3\\lib\\site-packages\\sklearn\\base.py:450: UserWarning: X does not have valid feature names, but StandardScaler was fitted with feature names\n",
      "  warnings.warn(\n"
     ]
    },
    {
     "name": "stdout",
     "output_type": "stream",
     "text": [
      "Thumbs Up [0.22 0.17 0.   0.42 0.04 0.15]\n",
      "Happy [0.35 0.26 0.01 0.15 0.02 0.21]\n"
     ]
    },
    {
     "name": "stderr",
     "output_type": "stream",
     "text": [
      "C:\\Users\\Priyanshu Singh\\anaconda3\\lib\\site-packages\\sklearn\\base.py:450: UserWarning: X does not have valid feature names, but StandardScaler was fitted with feature names\n",
      "  warnings.warn(\n",
      "C:\\Users\\Priyanshu Singh\\anaconda3\\lib\\site-packages\\sklearn\\base.py:450: UserWarning: X does not have valid feature names, but StandardScaler was fitted with feature names\n",
      "  warnings.warn(\n",
      "C:\\Users\\Priyanshu Singh\\anaconda3\\lib\\site-packages\\sklearn\\base.py:450: UserWarning: X does not have valid feature names, but StandardScaler was fitted with feature names\n",
      "  warnings.warn(\n",
      "C:\\Users\\Priyanshu Singh\\anaconda3\\lib\\site-packages\\sklearn\\base.py:450: UserWarning: X does not have valid feature names, but StandardScaler was fitted with feature names\n",
      "  warnings.warn(\n"
     ]
    },
    {
     "name": "stdout",
     "output_type": "stream",
     "text": [
      "Wakanda Forever [0.18 0.17 0.05 0.1  0.1  0.4 ]\n",
      "Thumbs Down [0.01 0.43 0.54 0.01 0.   0.01]\n"
     ]
    },
    {
     "name": "stderr",
     "output_type": "stream",
     "text": [
      "C:\\Users\\Priyanshu Singh\\anaconda3\\lib\\site-packages\\sklearn\\base.py:450: UserWarning: X does not have valid feature names, but StandardScaler was fitted with feature names\n",
      "  warnings.warn(\n",
      "C:\\Users\\Priyanshu Singh\\anaconda3\\lib\\site-packages\\sklearn\\base.py:450: UserWarning: X does not have valid feature names, but StandardScaler was fitted with feature names\n",
      "  warnings.warn(\n",
      "C:\\Users\\Priyanshu Singh\\anaconda3\\lib\\site-packages\\sklearn\\base.py:450: UserWarning: X does not have valid feature names, but StandardScaler was fitted with feature names\n",
      "  warnings.warn(\n",
      "C:\\Users\\Priyanshu Singh\\anaconda3\\lib\\site-packages\\sklearn\\base.py:450: UserWarning: X does not have valid feature names, but StandardScaler was fitted with feature names\n",
      "  warnings.warn(\n"
     ]
    },
    {
     "name": "stdout",
     "output_type": "stream",
     "text": [
      "Thumbs Down [0.03 0.03 0.89 0.01 0.01 0.03]\n",
      "Thumbs Down [0.01 0.02 0.64 0.14 0.12 0.07]\n"
     ]
    },
    {
     "name": "stderr",
     "output_type": "stream",
     "text": [
      "C:\\Users\\Priyanshu Singh\\anaconda3\\lib\\site-packages\\sklearn\\base.py:450: UserWarning: X does not have valid feature names, but StandardScaler was fitted with feature names\n",
      "  warnings.warn(\n",
      "C:\\Users\\Priyanshu Singh\\anaconda3\\lib\\site-packages\\sklearn\\base.py:450: UserWarning: X does not have valid feature names, but StandardScaler was fitted with feature names\n",
      "  warnings.warn(\n",
      "C:\\Users\\Priyanshu Singh\\anaconda3\\lib\\site-packages\\sklearn\\base.py:450: UserWarning: X does not have valid feature names, but StandardScaler was fitted with feature names\n",
      "  warnings.warn(\n",
      "C:\\Users\\Priyanshu Singh\\anaconda3\\lib\\site-packages\\sklearn\\base.py:450: UserWarning: X does not have valid feature names, but StandardScaler was fitted with feature names\n",
      "  warnings.warn(\n"
     ]
    },
    {
     "name": "stdout",
     "output_type": "stream",
     "text": [
      "Thumbs Down [0.02 0.01 0.88 0.02 0.02 0.05]\n",
      "Thumbs Down [0.02 0.1  0.81 0.02 0.01 0.04]\n",
      "Thumbs Down [0.02 0.08 0.75 0.06 0.06 0.03]\n"
     ]
    },
    {
     "name": "stderr",
     "output_type": "stream",
     "text": [
      "C:\\Users\\Priyanshu Singh\\anaconda3\\lib\\site-packages\\sklearn\\base.py:450: UserWarning: X does not have valid feature names, but StandardScaler was fitted with feature names\n",
      "  warnings.warn(\n",
      "C:\\Users\\Priyanshu Singh\\anaconda3\\lib\\site-packages\\sklearn\\base.py:450: UserWarning: X does not have valid feature names, but StandardScaler was fitted with feature names\n",
      "  warnings.warn(\n",
      "C:\\Users\\Priyanshu Singh\\anaconda3\\lib\\site-packages\\sklearn\\base.py:450: UserWarning: X does not have valid feature names, but StandardScaler was fitted with feature names\n",
      "  warnings.warn(\n",
      "C:\\Users\\Priyanshu Singh\\anaconda3\\lib\\site-packages\\sklearn\\base.py:450: UserWarning: X does not have valid feature names, but StandardScaler was fitted with feature names\n",
      "  warnings.warn(\n"
     ]
    },
    {
     "name": "stdout",
     "output_type": "stream",
     "text": [
      "Thumbs Down [0.02 0.04 0.78 0.07 0.07 0.02]\n"
     ]
    },
    {
     "name": "stderr",
     "output_type": "stream",
     "text": [
      "C:\\Users\\Priyanshu Singh\\anaconda3\\lib\\site-packages\\sklearn\\base.py:450: UserWarning: X does not have valid feature names, but StandardScaler was fitted with feature names\n",
      "  warnings.warn(\n",
      "C:\\Users\\Priyanshu Singh\\anaconda3\\lib\\site-packages\\sklearn\\base.py:450: UserWarning: X does not have valid feature names, but StandardScaler was fitted with feature names\n",
      "  warnings.warn(\n",
      "C:\\Users\\Priyanshu Singh\\anaconda3\\lib\\site-packages\\sklearn\\base.py:450: UserWarning: X does not have valid feature names, but StandardScaler was fitted with feature names\n",
      "  warnings.warn(\n"
     ]
    },
    {
     "name": "stdout",
     "output_type": "stream",
     "text": [
      "Thumbs Down [0.02 0.03 0.72 0.13 0.08 0.02]\n",
      "Thumbs Down [0.04 0.01 0.71 0.14 0.08 0.02]\n"
     ]
    },
    {
     "name": "stderr",
     "output_type": "stream",
     "text": [
      "C:\\Users\\Priyanshu Singh\\anaconda3\\lib\\site-packages\\sklearn\\base.py:450: UserWarning: X does not have valid feature names, but StandardScaler was fitted with feature names\n",
      "  warnings.warn(\n",
      "C:\\Users\\Priyanshu Singh\\anaconda3\\lib\\site-packages\\sklearn\\base.py:450: UserWarning: X does not have valid feature names, but StandardScaler was fitted with feature names\n",
      "  warnings.warn(\n",
      "C:\\Users\\Priyanshu Singh\\anaconda3\\lib\\site-packages\\sklearn\\base.py:450: UserWarning: X does not have valid feature names, but StandardScaler was fitted with feature names\n",
      "  warnings.warn(\n"
     ]
    },
    {
     "name": "stdout",
     "output_type": "stream",
     "text": [
      "Thumbs Down [0.03 0.01 0.63 0.2  0.09 0.04]\n",
      "Thumbs Down [0.04 0.   0.63 0.2  0.09 0.04]\n"
     ]
    },
    {
     "name": "stderr",
     "output_type": "stream",
     "text": [
      "C:\\Users\\Priyanshu Singh\\anaconda3\\lib\\site-packages\\sklearn\\base.py:450: UserWarning: X does not have valid feature names, but StandardScaler was fitted with feature names\n",
      "  warnings.warn(\n",
      "C:\\Users\\Priyanshu Singh\\anaconda3\\lib\\site-packages\\sklearn\\base.py:450: UserWarning: X does not have valid feature names, but StandardScaler was fitted with feature names\n",
      "  warnings.warn(\n",
      "C:\\Users\\Priyanshu Singh\\anaconda3\\lib\\site-packages\\sklearn\\base.py:450: UserWarning: X does not have valid feature names, but StandardScaler was fitted with feature names\n",
      "  warnings.warn(\n",
      "C:\\Users\\Priyanshu Singh\\anaconda3\\lib\\site-packages\\sklearn\\base.py:450: UserWarning: X does not have valid feature names, but StandardScaler was fitted with feature names\n",
      "  warnings.warn(\n"
     ]
    },
    {
     "name": "stdout",
     "output_type": "stream",
     "text": [
      "Thumbs Down [0.04 0.01 0.68 0.15 0.08 0.04]\n"
     ]
    },
    {
     "name": "stderr",
     "output_type": "stream",
     "text": [
      "C:\\Users\\Priyanshu Singh\\anaconda3\\lib\\site-packages\\sklearn\\base.py:450: UserWarning: X does not have valid feature names, but StandardScaler was fitted with feature names\n",
      "  warnings.warn(\n",
      "C:\\Users\\Priyanshu Singh\\anaconda3\\lib\\site-packages\\sklearn\\base.py:450: UserWarning: X does not have valid feature names, but StandardScaler was fitted with feature names\n",
      "  warnings.warn(\n"
     ]
    },
    {
     "name": "stdout",
     "output_type": "stream",
     "text": [
      "Thumbs Down [0.07 0.12 0.57 0.13 0.07 0.04]\n",
      "Sad [0.08 0.34 0.19 0.24 0.02 0.13]\n"
     ]
    },
    {
     "name": "stderr",
     "output_type": "stream",
     "text": [
      "C:\\Users\\Priyanshu Singh\\anaconda3\\lib\\site-packages\\sklearn\\base.py:450: UserWarning: X does not have valid feature names, but StandardScaler was fitted with feature names\n",
      "  warnings.warn(\n",
      "C:\\Users\\Priyanshu Singh\\anaconda3\\lib\\site-packages\\sklearn\\base.py:450: UserWarning: X does not have valid feature names, but StandardScaler was fitted with feature names\n",
      "  warnings.warn(\n",
      "C:\\Users\\Priyanshu Singh\\anaconda3\\lib\\site-packages\\sklearn\\base.py:450: UserWarning: X does not have valid feature names, but StandardScaler was fitted with feature names\n",
      "  warnings.warn(\n",
      "C:\\Users\\Priyanshu Singh\\anaconda3\\lib\\site-packages\\sklearn\\base.py:450: UserWarning: X does not have valid feature names, but StandardScaler was fitted with feature names\n",
      "  warnings.warn(\n"
     ]
    },
    {
     "name": "stdout",
     "output_type": "stream",
     "text": [
      "Sad [0.09 0.38 0.21 0.13 0.01 0.18]\n",
      "Thumbs Down [0.02 0.06 0.83 0.08 0.   0.01]\n"
     ]
    },
    {
     "name": "stderr",
     "output_type": "stream",
     "text": [
      "C:\\Users\\Priyanshu Singh\\anaconda3\\lib\\site-packages\\sklearn\\base.py:450: UserWarning: X does not have valid feature names, but StandardScaler was fitted with feature names\n",
      "  warnings.warn(\n",
      "C:\\Users\\Priyanshu Singh\\anaconda3\\lib\\site-packages\\sklearn\\base.py:450: UserWarning: X does not have valid feature names, but StandardScaler was fitted with feature names\n",
      "  warnings.warn(\n",
      "C:\\Users\\Priyanshu Singh\\anaconda3\\lib\\site-packages\\sklearn\\base.py:450: UserWarning: X does not have valid feature names, but StandardScaler was fitted with feature names\n",
      "  warnings.warn(\n",
      "C:\\Users\\Priyanshu Singh\\anaconda3\\lib\\site-packages\\sklearn\\base.py:450: UserWarning: X does not have valid feature names, but StandardScaler was fitted with feature names\n",
      "  warnings.warn(\n",
      "C:\\Users\\Priyanshu Singh\\anaconda3\\lib\\site-packages\\sklearn\\base.py:450: UserWarning: X does not have valid feature names, but StandardScaler was fitted with feature names\n",
      "  warnings.warn(\n",
      "C:\\Users\\Priyanshu Singh\\anaconda3\\lib\\site-packages\\sklearn\\base.py:450: UserWarning: X does not have valid feature names, but StandardScaler was fitted with feature names\n",
      "  warnings.warn(\n"
     ]
    },
    {
     "name": "stdout",
     "output_type": "stream",
     "text": [
      "Thumbs Down [0.02 0.04 0.84 0.08 0.   0.02]\n",
      "Thumbs Down [0.02 0.03 0.85 0.08 0.   0.02]\n"
     ]
    },
    {
     "name": "stderr",
     "output_type": "stream",
     "text": [
      "C:\\Users\\Priyanshu Singh\\anaconda3\\lib\\site-packages\\sklearn\\base.py:450: UserWarning: X does not have valid feature names, but StandardScaler was fitted with feature names\n",
      "  warnings.warn(\n",
      "C:\\Users\\Priyanshu Singh\\anaconda3\\lib\\site-packages\\sklearn\\base.py:450: UserWarning: X does not have valid feature names, but StandardScaler was fitted with feature names\n",
      "  warnings.warn(\n",
      "C:\\Users\\Priyanshu Singh\\anaconda3\\lib\\site-packages\\sklearn\\base.py:450: UserWarning: X does not have valid feature names, but StandardScaler was fitted with feature names\n",
      "  warnings.warn(\n",
      "C:\\Users\\Priyanshu Singh\\anaconda3\\lib\\site-packages\\sklearn\\base.py:450: UserWarning: X does not have valid feature names, but StandardScaler was fitted with feature names\n",
      "  warnings.warn(\n"
     ]
    },
    {
     "name": "stdout",
     "output_type": "stream",
     "text": [
      "Thumbs Down [0.   0.09 0.8  0.08 0.   0.03]\n",
      "Thumbs Down [0.02 0.03 0.84 0.08 0.   0.03]\n"
     ]
    },
    {
     "name": "stderr",
     "output_type": "stream",
     "text": [
      "C:\\Users\\Priyanshu Singh\\anaconda3\\lib\\site-packages\\sklearn\\base.py:450: UserWarning: X does not have valid feature names, but StandardScaler was fitted with feature names\n",
      "  warnings.warn(\n",
      "C:\\Users\\Priyanshu Singh\\anaconda3\\lib\\site-packages\\sklearn\\base.py:450: UserWarning: X does not have valid feature names, but StandardScaler was fitted with feature names\n",
      "  warnings.warn(\n",
      "C:\\Users\\Priyanshu Singh\\anaconda3\\lib\\site-packages\\sklearn\\base.py:450: UserWarning: X does not have valid feature names, but StandardScaler was fitted with feature names\n",
      "  warnings.warn(\n",
      "C:\\Users\\Priyanshu Singh\\anaconda3\\lib\\site-packages\\sklearn\\base.py:450: UserWarning: X does not have valid feature names, but StandardScaler was fitted with feature names\n",
      "  warnings.warn(\n"
     ]
    },
    {
     "name": "stdout",
     "output_type": "stream",
     "text": [
      "Thumbs Down [0.02 0.04 0.85 0.08 0.   0.01]\n",
      "Thumbs Down [0.02 0.03 0.61 0.23 0.07 0.04]\n"
     ]
    },
    {
     "name": "stderr",
     "output_type": "stream",
     "text": [
      "C:\\Users\\Priyanshu Singh\\anaconda3\\lib\\site-packages\\sklearn\\base.py:450: UserWarning: X does not have valid feature names, but StandardScaler was fitted with feature names\n",
      "  warnings.warn(\n",
      "C:\\Users\\Priyanshu Singh\\anaconda3\\lib\\site-packages\\sklearn\\base.py:450: UserWarning: X does not have valid feature names, but StandardScaler was fitted with feature names\n",
      "  warnings.warn(\n",
      "C:\\Users\\Priyanshu Singh\\anaconda3\\lib\\site-packages\\sklearn\\base.py:450: UserWarning: X does not have valid feature names, but StandardScaler was fitted with feature names\n",
      "  warnings.warn(\n",
      "C:\\Users\\Priyanshu Singh\\anaconda3\\lib\\site-packages\\sklearn\\base.py:450: UserWarning: X does not have valid feature names, but StandardScaler was fitted with feature names\n",
      "  warnings.warn(\n"
     ]
    },
    {
     "name": "stdout",
     "output_type": "stream",
     "text": [
      "Thumbs Down [0.02 0.04 0.78 0.11 0.01 0.04]\n",
      "Thumbs Down [0.02 0.02 0.64 0.21 0.08 0.03]\n"
     ]
    },
    {
     "name": "stderr",
     "output_type": "stream",
     "text": [
      "C:\\Users\\Priyanshu Singh\\anaconda3\\lib\\site-packages\\sklearn\\base.py:450: UserWarning: X does not have valid feature names, but StandardScaler was fitted with feature names\n",
      "  warnings.warn(\n",
      "C:\\Users\\Priyanshu Singh\\anaconda3\\lib\\site-packages\\sklearn\\base.py:450: UserWarning: X does not have valid feature names, but StandardScaler was fitted with feature names\n",
      "  warnings.warn(\n",
      "C:\\Users\\Priyanshu Singh\\anaconda3\\lib\\site-packages\\sklearn\\base.py:450: UserWarning: X does not have valid feature names, but StandardScaler was fitted with feature names\n",
      "  warnings.warn(\n",
      "C:\\Users\\Priyanshu Singh\\anaconda3\\lib\\site-packages\\sklearn\\base.py:450: UserWarning: X does not have valid feature names, but StandardScaler was fitted with feature names\n",
      "  warnings.warn(\n"
     ]
    },
    {
     "name": "stdout",
     "output_type": "stream",
     "text": [
      "Thumbs Down [0.02 0.02 0.68 0.17 0.07 0.04]\n",
      "Thumbs Down [0.03 0.02 0.75 0.12 0.04 0.04]\n"
     ]
    },
    {
     "name": "stderr",
     "output_type": "stream",
     "text": [
      "C:\\Users\\Priyanshu Singh\\anaconda3\\lib\\site-packages\\sklearn\\base.py:450: UserWarning: X does not have valid feature names, but StandardScaler was fitted with feature names\n",
      "  warnings.warn(\n",
      "C:\\Users\\Priyanshu Singh\\anaconda3\\lib\\site-packages\\sklearn\\base.py:450: UserWarning: X does not have valid feature names, but StandardScaler was fitted with feature names\n",
      "  warnings.warn(\n",
      "C:\\Users\\Priyanshu Singh\\anaconda3\\lib\\site-packages\\sklearn\\base.py:450: UserWarning: X does not have valid feature names, but StandardScaler was fitted with feature names\n",
      "  warnings.warn(\n",
      "C:\\Users\\Priyanshu Singh\\anaconda3\\lib\\site-packages\\sklearn\\base.py:450: UserWarning: X does not have valid feature names, but StandardScaler was fitted with feature names\n",
      "  warnings.warn(\n"
     ]
    },
    {
     "name": "stdout",
     "output_type": "stream",
     "text": [
      "Thumbs Down [0.05 0.01 0.73 0.13 0.04 0.04]\n",
      "Thumbs Down [0.03 0.02 0.62 0.21 0.08 0.04]\n"
     ]
    },
    {
     "name": "stderr",
     "output_type": "stream",
     "text": [
      "C:\\Users\\Priyanshu Singh\\anaconda3\\lib\\site-packages\\sklearn\\base.py:450: UserWarning: X does not have valid feature names, but StandardScaler was fitted with feature names\n",
      "  warnings.warn(\n",
      "C:\\Users\\Priyanshu Singh\\anaconda3\\lib\\site-packages\\sklearn\\base.py:450: UserWarning: X does not have valid feature names, but StandardScaler was fitted with feature names\n",
      "  warnings.warn(\n",
      "C:\\Users\\Priyanshu Singh\\anaconda3\\lib\\site-packages\\sklearn\\base.py:450: UserWarning: X does not have valid feature names, but StandardScaler was fitted with feature names\n",
      "  warnings.warn(\n",
      "C:\\Users\\Priyanshu Singh\\anaconda3\\lib\\site-packages\\sklearn\\base.py:450: UserWarning: X does not have valid feature names, but StandardScaler was fitted with feature names\n",
      "  warnings.warn(\n"
     ]
    },
    {
     "name": "stdout",
     "output_type": "stream",
     "text": [
      "Thumbs Down [0.03 0.03 0.62 0.2  0.06 0.06]\n",
      "Thumbs Down [0.01 0.02 0.63 0.19 0.08 0.07]\n"
     ]
    },
    {
     "name": "stderr",
     "output_type": "stream",
     "text": [
      "C:\\Users\\Priyanshu Singh\\anaconda3\\lib\\site-packages\\sklearn\\base.py:450: UserWarning: X does not have valid feature names, but StandardScaler was fitted with feature names\n",
      "  warnings.warn(\n",
      "C:\\Users\\Priyanshu Singh\\anaconda3\\lib\\site-packages\\sklearn\\base.py:450: UserWarning: X does not have valid feature names, but StandardScaler was fitted with feature names\n",
      "  warnings.warn(\n",
      "C:\\Users\\Priyanshu Singh\\anaconda3\\lib\\site-packages\\sklearn\\base.py:450: UserWarning: X does not have valid feature names, but StandardScaler was fitted with feature names\n",
      "  warnings.warn(\n",
      "C:\\Users\\Priyanshu Singh\\anaconda3\\lib\\site-packages\\sklearn\\base.py:450: UserWarning: X does not have valid feature names, but StandardScaler was fitted with feature names\n",
      "  warnings.warn(\n"
     ]
    },
    {
     "name": "stdout",
     "output_type": "stream",
     "text": [
      "Thumbs Down [0.02 0.02 0.67 0.15 0.06 0.08]\n",
      "Thumbs Down [0.03 0.02 0.62 0.2  0.06 0.07]\n"
     ]
    },
    {
     "name": "stderr",
     "output_type": "stream",
     "text": [
      "C:\\Users\\Priyanshu Singh\\anaconda3\\lib\\site-packages\\sklearn\\base.py:450: UserWarning: X does not have valid feature names, but StandardScaler was fitted with feature names\n",
      "  warnings.warn(\n",
      "C:\\Users\\Priyanshu Singh\\anaconda3\\lib\\site-packages\\sklearn\\base.py:450: UserWarning: X does not have valid feature names, but StandardScaler was fitted with feature names\n",
      "  warnings.warn(\n",
      "C:\\Users\\Priyanshu Singh\\anaconda3\\lib\\site-packages\\sklearn\\base.py:450: UserWarning: X does not have valid feature names, but StandardScaler was fitted with feature names\n",
      "  warnings.warn(\n",
      "C:\\Users\\Priyanshu Singh\\anaconda3\\lib\\site-packages\\sklearn\\base.py:450: UserWarning: X does not have valid feature names, but StandardScaler was fitted with feature names\n",
      "  warnings.warn(\n"
     ]
    },
    {
     "name": "stdout",
     "output_type": "stream",
     "text": [
      "Thumbs Down [0.03 0.02 0.74 0.13 0.04 0.04]\n",
      "Thumbs Down [0.02 0.03 0.63 0.2  0.05 0.07]\n"
     ]
    },
    {
     "name": "stderr",
     "output_type": "stream",
     "text": [
      "C:\\Users\\Priyanshu Singh\\anaconda3\\lib\\site-packages\\sklearn\\base.py:450: UserWarning: X does not have valid feature names, but StandardScaler was fitted with feature names\n",
      "  warnings.warn(\n",
      "C:\\Users\\Priyanshu Singh\\anaconda3\\lib\\site-packages\\sklearn\\base.py:450: UserWarning: X does not have valid feature names, but StandardScaler was fitted with feature names\n",
      "  warnings.warn(\n",
      "C:\\Users\\Priyanshu Singh\\anaconda3\\lib\\site-packages\\sklearn\\base.py:450: UserWarning: X does not have valid feature names, but StandardScaler was fitted with feature names\n",
      "  warnings.warn(\n",
      "C:\\Users\\Priyanshu Singh\\anaconda3\\lib\\site-packages\\sklearn\\base.py:450: UserWarning: X does not have valid feature names, but StandardScaler was fitted with feature names\n",
      "  warnings.warn(\n"
     ]
    },
    {
     "name": "stdout",
     "output_type": "stream",
     "text": [
      "Thumbs Down [0.03 0.02 0.63 0.21 0.07 0.04]\n",
      "Thumbs Down [0.03 0.02 0.73 0.13 0.04 0.05]\n"
     ]
    },
    {
     "name": "stderr",
     "output_type": "stream",
     "text": [
      "C:\\Users\\Priyanshu Singh\\anaconda3\\lib\\site-packages\\sklearn\\base.py:450: UserWarning: X does not have valid feature names, but StandardScaler was fitted with feature names\n",
      "  warnings.warn(\n",
      "C:\\Users\\Priyanshu Singh\\anaconda3\\lib\\site-packages\\sklearn\\base.py:450: UserWarning: X does not have valid feature names, but StandardScaler was fitted with feature names\n",
      "  warnings.warn(\n",
      "C:\\Users\\Priyanshu Singh\\anaconda3\\lib\\site-packages\\sklearn\\base.py:450: UserWarning: X does not have valid feature names, but StandardScaler was fitted with feature names\n",
      "  warnings.warn(\n",
      "C:\\Users\\Priyanshu Singh\\anaconda3\\lib\\site-packages\\sklearn\\base.py:450: UserWarning: X does not have valid feature names, but StandardScaler was fitted with feature names\n",
      "  warnings.warn(\n"
     ]
    },
    {
     "name": "stdout",
     "output_type": "stream",
     "text": [
      "Thumbs Down [0.03 0.02 0.77 0.09 0.04 0.05]\n",
      "Thumbs Down [0.04 0.02 0.75 0.11 0.03 0.05]\n"
     ]
    },
    {
     "name": "stderr",
     "output_type": "stream",
     "text": [
      "C:\\Users\\Priyanshu Singh\\anaconda3\\lib\\site-packages\\sklearn\\base.py:450: UserWarning: X does not have valid feature names, but StandardScaler was fitted with feature names\n",
      "  warnings.warn(\n",
      "C:\\Users\\Priyanshu Singh\\anaconda3\\lib\\site-packages\\sklearn\\base.py:450: UserWarning: X does not have valid feature names, but StandardScaler was fitted with feature names\n",
      "  warnings.warn(\n"
     ]
    },
    {
     "name": "stdout",
     "output_type": "stream",
     "text": [
      "Thumbs Down [0.02 0.02 0.59 0.23 0.08 0.06]\n",
      "Thumbs Down [0.03 0.02 0.59 0.25 0.05 0.06]\n"
     ]
    },
    {
     "name": "stderr",
     "output_type": "stream",
     "text": [
      "C:\\Users\\Priyanshu Singh\\anaconda3\\lib\\site-packages\\sklearn\\base.py:450: UserWarning: X does not have valid feature names, but StandardScaler was fitted with feature names\n",
      "  warnings.warn(\n",
      "C:\\Users\\Priyanshu Singh\\anaconda3\\lib\\site-packages\\sklearn\\base.py:450: UserWarning: X does not have valid feature names, but StandardScaler was fitted with feature names\n",
      "  warnings.warn(\n",
      "C:\\Users\\Priyanshu Singh\\anaconda3\\lib\\site-packages\\sklearn\\base.py:450: UserWarning: X does not have valid feature names, but StandardScaler was fitted with feature names\n",
      "  warnings.warn(\n",
      "C:\\Users\\Priyanshu Singh\\anaconda3\\lib\\site-packages\\sklearn\\base.py:450: UserWarning: X does not have valid feature names, but StandardScaler was fitted with feature names\n",
      "  warnings.warn(\n"
     ]
    },
    {
     "name": "stdout",
     "output_type": "stream",
     "text": [
      "Thumbs Down [0.02 0.03 0.62 0.2  0.06 0.07]\n",
      "Thumbs Down [0.04 0.04 0.57 0.22 0.06 0.07]\n"
     ]
    },
    {
     "name": "stderr",
     "output_type": "stream",
     "text": [
      "C:\\Users\\Priyanshu Singh\\anaconda3\\lib\\site-packages\\sklearn\\base.py:450: UserWarning: X does not have valid feature names, but StandardScaler was fitted with feature names\n",
      "  warnings.warn(\n",
      "C:\\Users\\Priyanshu Singh\\anaconda3\\lib\\site-packages\\sklearn\\base.py:450: UserWarning: X does not have valid feature names, but StandardScaler was fitted with feature names\n",
      "  warnings.warn(\n",
      "C:\\Users\\Priyanshu Singh\\anaconda3\\lib\\site-packages\\sklearn\\base.py:450: UserWarning: X does not have valid feature names, but StandardScaler was fitted with feature names\n",
      "  warnings.warn(\n",
      "C:\\Users\\Priyanshu Singh\\anaconda3\\lib\\site-packages\\sklearn\\base.py:450: UserWarning: X does not have valid feature names, but StandardScaler was fitted with feature names\n",
      "  warnings.warn(\n"
     ]
    },
    {
     "name": "stdout",
     "output_type": "stream",
     "text": [
      "Thumbs Down [0.03 0.08 0.75 0.11 0.   0.03]\n"
     ]
    },
    {
     "name": "stderr",
     "output_type": "stream",
     "text": [
      "C:\\Users\\Priyanshu Singh\\anaconda3\\lib\\site-packages\\sklearn\\base.py:450: UserWarning: X does not have valid feature names, but StandardScaler was fitted with feature names\n",
      "  warnings.warn(\n",
      "C:\\Users\\Priyanshu Singh\\anaconda3\\lib\\site-packages\\sklearn\\base.py:450: UserWarning: X does not have valid feature names, but StandardScaler was fitted with feature names\n",
      "  warnings.warn(\n",
      "C:\\Users\\Priyanshu Singh\\anaconda3\\lib\\site-packages\\sklearn\\base.py:450: UserWarning: X does not have valid feature names, but StandardScaler was fitted with feature names\n",
      "  warnings.warn(\n",
      "C:\\Users\\Priyanshu Singh\\anaconda3\\lib\\site-packages\\sklearn\\base.py:450: UserWarning: X does not have valid feature names, but StandardScaler was fitted with feature names\n",
      "  warnings.warn(\n"
     ]
    },
    {
     "name": "stdout",
     "output_type": "stream",
     "text": [
      "Thumbs Down [0.04 0.06 0.51 0.25 0.05 0.09]\n",
      "Thumbs Down [0.04 0.07 0.67 0.1  0.01 0.11]\n"
     ]
    },
    {
     "name": "stderr",
     "output_type": "stream",
     "text": [
      "C:\\Users\\Priyanshu Singh\\anaconda3\\lib\\site-packages\\sklearn\\base.py:450: UserWarning: X does not have valid feature names, but StandardScaler was fitted with feature names\n",
      "  warnings.warn(\n",
      "C:\\Users\\Priyanshu Singh\\anaconda3\\lib\\site-packages\\sklearn\\base.py:450: UserWarning: X does not have valid feature names, but StandardScaler was fitted with feature names\n",
      "  warnings.warn(\n",
      "C:\\Users\\Priyanshu Singh\\anaconda3\\lib\\site-packages\\sklearn\\base.py:450: UserWarning: X does not have valid feature names, but StandardScaler was fitted with feature names\n",
      "  warnings.warn(\n"
     ]
    },
    {
     "name": "stdout",
     "output_type": "stream",
     "text": [
      "Thumbs Down [0.04 0.06 0.48 0.23 0.04 0.15]\n",
      "Thumbs Down [0.08 0.12 0.37 0.24 0.03 0.16]\n"
     ]
    },
    {
     "name": "stderr",
     "output_type": "stream",
     "text": [
      "C:\\Users\\Priyanshu Singh\\anaconda3\\lib\\site-packages\\sklearn\\base.py:450: UserWarning: X does not have valid feature names, but StandardScaler was fitted with feature names\n",
      "  warnings.warn(\n",
      "C:\\Users\\Priyanshu Singh\\anaconda3\\lib\\site-packages\\sklearn\\base.py:450: UserWarning: X does not have valid feature names, but StandardScaler was fitted with feature names\n",
      "  warnings.warn(\n",
      "C:\\Users\\Priyanshu Singh\\anaconda3\\lib\\site-packages\\sklearn\\base.py:450: UserWarning: X does not have valid feature names, but StandardScaler was fitted with feature names\n",
      "  warnings.warn(\n"
     ]
    },
    {
     "name": "stdout",
     "output_type": "stream",
     "text": [
      "Thumbs Down [0.03 0.09 0.5  0.23 0.03 0.12]\n",
      "Thumbs Down [0.06 0.17 0.39 0.24 0.02 0.12]\n"
     ]
    },
    {
     "name": "stderr",
     "output_type": "stream",
     "text": [
      "C:\\Users\\Priyanshu Singh\\anaconda3\\lib\\site-packages\\sklearn\\base.py:450: UserWarning: X does not have valid feature names, but StandardScaler was fitted with feature names\n",
      "  warnings.warn(\n",
      "C:\\Users\\Priyanshu Singh\\anaconda3\\lib\\site-packages\\sklearn\\base.py:450: UserWarning: X does not have valid feature names, but StandardScaler was fitted with feature names\n",
      "  warnings.warn(\n",
      "C:\\Users\\Priyanshu Singh\\anaconda3\\lib\\site-packages\\sklearn\\base.py:450: UserWarning: X does not have valid feature names, but StandardScaler was fitted with feature names\n",
      "  warnings.warn(\n",
      "C:\\Users\\Priyanshu Singh\\anaconda3\\lib\\site-packages\\sklearn\\base.py:450: UserWarning: X does not have valid feature names, but StandardScaler was fitted with feature names\n",
      "  warnings.warn(\n"
     ]
    },
    {
     "name": "stdout",
     "output_type": "stream",
     "text": [
      "Thumbs Down [0.05 0.23 0.48 0.13 0.   0.11]\n",
      "Thumbs Down [0.01 0.02 0.68 0.17 0.02 0.1 ]\n"
     ]
    },
    {
     "name": "stderr",
     "output_type": "stream",
     "text": [
      "C:\\Users\\Priyanshu Singh\\anaconda3\\lib\\site-packages\\sklearn\\base.py:450: UserWarning: X does not have valid feature names, but StandardScaler was fitted with feature names\n",
      "  warnings.warn(\n",
      "C:\\Users\\Priyanshu Singh\\anaconda3\\lib\\site-packages\\sklearn\\base.py:450: UserWarning: X does not have valid feature names, but StandardScaler was fitted with feature names\n",
      "  warnings.warn(\n",
      "C:\\Users\\Priyanshu Singh\\anaconda3\\lib\\site-packages\\sklearn\\base.py:450: UserWarning: X does not have valid feature names, but StandardScaler was fitted with feature names\n",
      "  warnings.warn(\n",
      "C:\\Users\\Priyanshu Singh\\anaconda3\\lib\\site-packages\\sklearn\\base.py:450: UserWarning: X does not have valid feature names, but StandardScaler was fitted with feature names\n",
      "  warnings.warn(\n",
      "C:\\Users\\Priyanshu Singh\\anaconda3\\lib\\site-packages\\sklearn\\base.py:450: UserWarning: X does not have valid feature names, but StandardScaler was fitted with feature names\n",
      "  warnings.warn(\n",
      "C:\\Users\\Priyanshu Singh\\anaconda3\\lib\\site-packages\\sklearn\\base.py:450: UserWarning: X does not have valid feature names, but StandardScaler was fitted with feature names\n",
      "  warnings.warn(\n"
     ]
    },
    {
     "name": "stdout",
     "output_type": "stream",
     "text": [
      "Thumbs Down [0.02 0.11 0.47 0.27 0.03 0.1 ]\n",
      "Thumbs Down [0.06 0.22 0.38 0.21 0.01 0.12]\n"
     ]
    },
    {
     "name": "stderr",
     "output_type": "stream",
     "text": [
      "C:\\Users\\Priyanshu Singh\\anaconda3\\lib\\site-packages\\sklearn\\base.py:450: UserWarning: X does not have valid feature names, but StandardScaler was fitted with feature names\n",
      "  warnings.warn(\n",
      "C:\\Users\\Priyanshu Singh\\anaconda3\\lib\\site-packages\\sklearn\\base.py:450: UserWarning: X does not have valid feature names, but StandardScaler was fitted with feature names\n",
      "  warnings.warn(\n",
      "C:\\Users\\Priyanshu Singh\\anaconda3\\lib\\site-packages\\sklearn\\base.py:450: UserWarning: X does not have valid feature names, but StandardScaler was fitted with feature names\n",
      "  warnings.warn(\n",
      "C:\\Users\\Priyanshu Singh\\anaconda3\\lib\\site-packages\\sklearn\\base.py:450: UserWarning: X does not have valid feature names, but StandardScaler was fitted with feature names\n",
      "  warnings.warn(\n"
     ]
    },
    {
     "name": "stdout",
     "output_type": "stream",
     "text": [
      "Thumbs Down [0.07 0.27 0.42 0.15 0.   0.09]\n",
      "Thumbs Down [0.07 0.24 0.32 0.22 0.01 0.14]\n"
     ]
    },
    {
     "name": "stderr",
     "output_type": "stream",
     "text": [
      "C:\\Users\\Priyanshu Singh\\anaconda3\\lib\\site-packages\\sklearn\\base.py:450: UserWarning: X does not have valid feature names, but StandardScaler was fitted with feature names\n",
      "  warnings.warn(\n",
      "C:\\Users\\Priyanshu Singh\\anaconda3\\lib\\site-packages\\sklearn\\base.py:450: UserWarning: X does not have valid feature names, but StandardScaler was fitted with feature names\n",
      "  warnings.warn(\n",
      "C:\\Users\\Priyanshu Singh\\anaconda3\\lib\\site-packages\\sklearn\\base.py:450: UserWarning: X does not have valid feature names, but StandardScaler was fitted with feature names\n",
      "  warnings.warn(\n"
     ]
    },
    {
     "name": "stdout",
     "output_type": "stream",
     "text": [
      "Thumbs Down [0.05 0.26 0.42 0.16 0.   0.11]\n",
      "Thumbs Down [0.06 0.27 0.35 0.12 0.05 0.15]\n"
     ]
    },
    {
     "name": "stderr",
     "output_type": "stream",
     "text": [
      "C:\\Users\\Priyanshu Singh\\anaconda3\\lib\\site-packages\\sklearn\\base.py:450: UserWarning: X does not have valid feature names, but StandardScaler was fitted with feature names\n",
      "  warnings.warn(\n",
      "C:\\Users\\Priyanshu Singh\\anaconda3\\lib\\site-packages\\sklearn\\base.py:450: UserWarning: X does not have valid feature names, but StandardScaler was fitted with feature names\n",
      "  warnings.warn(\n",
      "C:\\Users\\Priyanshu Singh\\anaconda3\\lib\\site-packages\\sklearn\\base.py:450: UserWarning: X does not have valid feature names, but StandardScaler was fitted with feature names\n",
      "  warnings.warn(\n"
     ]
    },
    {
     "name": "stdout",
     "output_type": "stream",
     "text": [
      "Sad [0.04 0.42 0.12 0.04 0.33 0.05]\n",
      "Victorious [0.01 0.27 0.06 0.01 0.62 0.03]\n"
     ]
    },
    {
     "name": "stderr",
     "output_type": "stream",
     "text": [
      "C:\\Users\\Priyanshu Singh\\anaconda3\\lib\\site-packages\\sklearn\\base.py:450: UserWarning: X does not have valid feature names, but StandardScaler was fitted with feature names\n",
      "  warnings.warn(\n",
      "C:\\Users\\Priyanshu Singh\\anaconda3\\lib\\site-packages\\sklearn\\base.py:450: UserWarning: X does not have valid feature names, but StandardScaler was fitted with feature names\n",
      "  warnings.warn(\n",
      "C:\\Users\\Priyanshu Singh\\anaconda3\\lib\\site-packages\\sklearn\\base.py:450: UserWarning: X does not have valid feature names, but StandardScaler was fitted with feature names\n",
      "  warnings.warn(\n",
      "C:\\Users\\Priyanshu Singh\\anaconda3\\lib\\site-packages\\sklearn\\base.py:450: UserWarning: X does not have valid feature names, but StandardScaler was fitted with feature names\n",
      "  warnings.warn(\n"
     ]
    },
    {
     "name": "stdout",
     "output_type": "stream",
     "text": [
      "Victorious [0.01 0.31 0.04 0.01 0.6  0.03]\n",
      "Victorious [0.02 0.38 0.03 0.02 0.53 0.02]\n"
     ]
    },
    {
     "name": "stderr",
     "output_type": "stream",
     "text": [
      "C:\\Users\\Priyanshu Singh\\anaconda3\\lib\\site-packages\\sklearn\\base.py:450: UserWarning: X does not have valid feature names, but StandardScaler was fitted with feature names\n",
      "  warnings.warn(\n",
      "C:\\Users\\Priyanshu Singh\\anaconda3\\lib\\site-packages\\sklearn\\base.py:450: UserWarning: X does not have valid feature names, but StandardScaler was fitted with feature names\n",
      "  warnings.warn(\n",
      "C:\\Users\\Priyanshu Singh\\anaconda3\\lib\\site-packages\\sklearn\\base.py:450: UserWarning: X does not have valid feature names, but StandardScaler was fitted with feature names\n",
      "  warnings.warn(\n",
      "C:\\Users\\Priyanshu Singh\\anaconda3\\lib\\site-packages\\sklearn\\base.py:450: UserWarning: X does not have valid feature names, but StandardScaler was fitted with feature names\n",
      "  warnings.warn(\n"
     ]
    },
    {
     "name": "stdout",
     "output_type": "stream",
     "text": [
      "Victorious [0.02 0.42 0.05 0.01 0.48 0.02]\n"
     ]
    },
    {
     "name": "stderr",
     "output_type": "stream",
     "text": [
      "C:\\Users\\Priyanshu Singh\\anaconda3\\lib\\site-packages\\sklearn\\base.py:450: UserWarning: X does not have valid feature names, but StandardScaler was fitted with feature names\n",
      "  warnings.warn(\n",
      "C:\\Users\\Priyanshu Singh\\anaconda3\\lib\\site-packages\\sklearn\\base.py:450: UserWarning: X does not have valid feature names, but StandardScaler was fitted with feature names\n",
      "  warnings.warn(\n",
      "C:\\Users\\Priyanshu Singh\\anaconda3\\lib\\site-packages\\sklearn\\base.py:450: UserWarning: X does not have valid feature names, but StandardScaler was fitted with feature names\n",
      "  warnings.warn(\n"
     ]
    },
    {
     "name": "stdout",
     "output_type": "stream",
     "text": [
      "Victorious [0.03 0.34 0.05 0.03 0.53 0.02]\n",
      "Victorious [0.03 0.37 0.05 0.03 0.5  0.02]\n"
     ]
    },
    {
     "name": "stderr",
     "output_type": "stream",
     "text": [
      "C:\\Users\\Priyanshu Singh\\anaconda3\\lib\\site-packages\\sklearn\\base.py:450: UserWarning: X does not have valid feature names, but StandardScaler was fitted with feature names\n",
      "  warnings.warn(\n",
      "C:\\Users\\Priyanshu Singh\\anaconda3\\lib\\site-packages\\sklearn\\base.py:450: UserWarning: X does not have valid feature names, but StandardScaler was fitted with feature names\n",
      "  warnings.warn(\n",
      "C:\\Users\\Priyanshu Singh\\anaconda3\\lib\\site-packages\\sklearn\\base.py:450: UserWarning: X does not have valid feature names, but StandardScaler was fitted with feature names\n",
      "  warnings.warn(\n"
     ]
    },
    {
     "name": "stdout",
     "output_type": "stream",
     "text": [
      "Victorious [0.02 0.37 0.04 0.02 0.53 0.02]\n",
      "Victorious [0.04 0.27 0.03 0.05 0.58 0.03]\n"
     ]
    },
    {
     "name": "stderr",
     "output_type": "stream",
     "text": [
      "C:\\Users\\Priyanshu Singh\\anaconda3\\lib\\site-packages\\sklearn\\base.py:450: UserWarning: X does not have valid feature names, but StandardScaler was fitted with feature names\n",
      "  warnings.warn(\n",
      "C:\\Users\\Priyanshu Singh\\anaconda3\\lib\\site-packages\\sklearn\\base.py:450: UserWarning: X does not have valid feature names, but StandardScaler was fitted with feature names\n",
      "  warnings.warn(\n",
      "C:\\Users\\Priyanshu Singh\\anaconda3\\lib\\site-packages\\sklearn\\base.py:450: UserWarning: X does not have valid feature names, but StandardScaler was fitted with feature names\n",
      "  warnings.warn(\n",
      "C:\\Users\\Priyanshu Singh\\anaconda3\\lib\\site-packages\\sklearn\\base.py:450: UserWarning: X does not have valid feature names, but StandardScaler was fitted with feature names\n",
      "  warnings.warn(\n",
      "C:\\Users\\Priyanshu Singh\\anaconda3\\lib\\site-packages\\sklearn\\base.py:450: UserWarning: X does not have valid feature names, but StandardScaler was fitted with feature names\n",
      "  warnings.warn(\n",
      "C:\\Users\\Priyanshu Singh\\anaconda3\\lib\\site-packages\\sklearn\\base.py:450: UserWarning: X does not have valid feature names, but StandardScaler was fitted with feature names\n",
      "  warnings.warn(\n"
     ]
    },
    {
     "name": "stdout",
     "output_type": "stream",
     "text": [
      "Victorious [0.03 0.31 0.05 0.03 0.56 0.02]\n",
      "Victorious [0.02 0.34 0.05 0.02 0.55 0.02]\n"
     ]
    },
    {
     "name": "stderr",
     "output_type": "stream",
     "text": [
      "C:\\Users\\Priyanshu Singh\\anaconda3\\lib\\site-packages\\sklearn\\base.py:450: UserWarning: X does not have valid feature names, but StandardScaler was fitted with feature names\n",
      "  warnings.warn(\n",
      "C:\\Users\\Priyanshu Singh\\anaconda3\\lib\\site-packages\\sklearn\\base.py:450: UserWarning: X does not have valid feature names, but StandardScaler was fitted with feature names\n",
      "  warnings.warn(\n",
      "C:\\Users\\Priyanshu Singh\\anaconda3\\lib\\site-packages\\sklearn\\base.py:450: UserWarning: X does not have valid feature names, but StandardScaler was fitted with feature names\n",
      "  warnings.warn(\n",
      "C:\\Users\\Priyanshu Singh\\anaconda3\\lib\\site-packages\\sklearn\\base.py:450: UserWarning: X does not have valid feature names, but StandardScaler was fitted with feature names\n",
      "  warnings.warn(\n"
     ]
    },
    {
     "name": "stdout",
     "output_type": "stream",
     "text": [
      "Victorious [0.03 0.28 0.05 0.02 0.6  0.02]\n",
      "Victorious [0.03 0.31 0.05 0.02 0.57 0.02]\n"
     ]
    },
    {
     "name": "stderr",
     "output_type": "stream",
     "text": [
      "C:\\Users\\Priyanshu Singh\\anaconda3\\lib\\site-packages\\sklearn\\base.py:450: UserWarning: X does not have valid feature names, but StandardScaler was fitted with feature names\n",
      "  warnings.warn(\n",
      "C:\\Users\\Priyanshu Singh\\anaconda3\\lib\\site-packages\\sklearn\\base.py:450: UserWarning: X does not have valid feature names, but StandardScaler was fitted with feature names\n",
      "  warnings.warn(\n",
      "C:\\Users\\Priyanshu Singh\\anaconda3\\lib\\site-packages\\sklearn\\base.py:450: UserWarning: X does not have valid feature names, but StandardScaler was fitted with feature names\n",
      "  warnings.warn(\n",
      "C:\\Users\\Priyanshu Singh\\anaconda3\\lib\\site-packages\\sklearn\\base.py:450: UserWarning: X does not have valid feature names, but StandardScaler was fitted with feature names\n",
      "  warnings.warn(\n"
     ]
    },
    {
     "name": "stdout",
     "output_type": "stream",
     "text": [
      "Victorious [0.03 0.29 0.05 0.02 0.58 0.03]\n",
      "Victorious [0.02 0.31 0.04 0.04 0.57 0.02]\n"
     ]
    }
   ],
   "source": [
    "cap = cv2.VideoCapture(0)\n",
    "# Initiate holistic model\n",
    "with mp_holistic.Holistic(min_detection_confidence=0.5, min_tracking_confidence=0.5) as holistic:\n",
    "    \n",
    "    while cap.isOpened():\n",
    "        ret, frame = cap.read()\n",
    "        \n",
    "        # Recolor Feed\n",
    "        image = cv2.cvtColor(frame, cv2.COLOR_BGR2RGB)\n",
    "        image.flags.writeable = False        \n",
    "        \n",
    "        # Make Detections\n",
    "        results = holistic.process(image)\n",
    "        # print(results.face_landmarks)\n",
    "        \n",
    "        # face_landmarks, pose_landmarks, left_hand_landmarks, right_hand_landmarks\n",
    "        \n",
    "        # Recolor image back to BGR for rendering\n",
    "        image.flags.writeable = True   \n",
    "        image = cv2.cvtColor(image, cv2.COLOR_RGB2BGR)\n",
    "        \n",
    "        # 1. Draw face landmarks\n",
    "        mp_drawing.draw_landmarks(image, results.face_landmarks, mp_holistic.FACEMESH_TESSELATION, \n",
    "                                 mp_drawing.DrawingSpec(color=(80,110,10), thickness=1, circle_radius=1),\n",
    "                                 mp_drawing.DrawingSpec(color=(80,256,121), thickness=1, circle_radius=1)\n",
    "                                 )\n",
    "        \n",
    "        # 2. Right hand\n",
    "        mp_drawing.draw_landmarks(image, results.right_hand_landmarks, mp_holistic.HAND_CONNECTIONS, \n",
    "                                 mp_drawing.DrawingSpec(color=(80,22,10), thickness=2, circle_radius=4),\n",
    "                                 mp_drawing.DrawingSpec(color=(80,44,121), thickness=2, circle_radius=2)\n",
    "                                 )\n",
    "\n",
    "        # 3. Left Hand\n",
    "        mp_drawing.draw_landmarks(image, results.left_hand_landmarks, mp_holistic.HAND_CONNECTIONS, \n",
    "                                 mp_drawing.DrawingSpec(color=(121,22,76), thickness=2, circle_radius=4),\n",
    "                                 mp_drawing.DrawingSpec(color=(121,44,250), thickness=2, circle_radius=2)\n",
    "                                 )\n",
    "\n",
    "        # 4. Pose Detections\n",
    "        mp_drawing.draw_landmarks(image, results.pose_landmarks, mp_holistic.POSE_CONNECTIONS, \n",
    "                                 mp_drawing.DrawingSpec(color=(245,117,66), thickness=2, circle_radius=4),\n",
    "                                 mp_drawing.DrawingSpec(color=(245,66,230), thickness=2, circle_radius=2)\n",
    "                                 )\n",
    "                # Export coordinates\n",
    "        try:\n",
    "            # Extract Pose landmarks\n",
    "            pose = results.pose_landmarks.landmark\n",
    "            pose_row = list(np.array([[landmark.x, landmark.y, landmark.z, landmark.visibility] for landmark in pose]).flatten())\n",
    "            \n",
    "            # Extract Face landmarks\n",
    "            face = results.face_landmarks.landmark\n",
    "            face_row = list(np.array([[landmark.x, landmark.y, landmark.z, landmark.visibility] for landmark in face]).flatten())\n",
    "            \n",
    "            # Concate rows\n",
    "            row = pose_row+face_row\n",
    "            \n",
    "          # Make Detections\n",
    "            X = pd.DataFrame([row])\n",
    "            body_language_class = model.predict(X)[0]\n",
    "            body_language_prob = model.predict_proba(X)[0]\n",
    "            print(body_language_class, body_language_prob)\n",
    "           \n",
    "         # Grab ear coords\n",
    "            coords = tuple(np.multiply(\n",
    "                            np.array(\n",
    "                                (results.pose_landmarks.landmark[mp_holistic.PoseLandmark.LEFT_EAR].x, \n",
    "                                 results.pose_landmarks.landmark[mp_holistic.PoseLandmark.LEFT_EAR].y))\n",
    "                        , [640,480]).astype(int))\n",
    "            \n",
    "            cv2.rectangle(image, \n",
    "                          (coords[0], coords[1]+5), \n",
    "                          (coords[0]+len(body_language_class)*20, coords[1]-30), \n",
    "                          (245, 117, 16), -1)\n",
    "            cv2.putText(image, body_language_class, coords, \n",
    "                        cv2.FONT_HERSHEY_SIMPLEX, 1, (255, 255, 255), 2, cv2.LINE_AA)\n",
    "            \n",
    "            # Get status box\n",
    "            cv2.rectangle(image, (0,0), (250, 60), (245, 117, 16), -1)\n",
    "            \n",
    "            # Display Class\n",
    "            cv2.putText(image, 'CLASS'\n",
    "                        , (95,12), cv2.FONT_HERSHEY_SIMPLEX, 0.5, (0, 0, 0), 1, cv2.LINE_AA)\n",
    "            cv2.putText(image, body_language_class.split(' ')[0]\n",
    "                        , (90,40), cv2.FONT_HERSHEY_SIMPLEX, 1, (255, 255, 255), 2, cv2.LINE_AA)\n",
    "            \n",
    "            # Display Probability\n",
    "            cv2.putText(image, 'PROB'\n",
    "                        , (15,12), cv2.FONT_HERSHEY_SIMPLEX, 0.5, (0, 0, 0), 1, cv2.LINE_AA)\n",
    "            cv2.putText(image, str(round(body_language_prob[np.argmax(body_language_prob)],2))\n",
    "                        , (10,40), cv2.FONT_HERSHEY_SIMPLEX, 1, (255, 255, 255), 2, cv2.LINE_AA)\n",
    "        \n",
    "        except:\n",
    "            pass\n",
    "                        \n",
    "        cv2.imshow('Raw Webcam Feed', image)\n",
    "\n",
    "        if cv2.waitKey(10) & 0xFF == ord('q'):\n",
    "            break\n",
    "\n",
    "cap.release()\n",
    "cv2.destroyAllWindows()\n"
   ]
  },
  {
   "cell_type": "code",
   "execution_count": 186,
   "id": "869409d5",
   "metadata": {},
   "outputs": [
    {
     "data": {
      "text/plain": [
       "(517, 211)"
      ]
     },
     "execution_count": 186,
     "metadata": {},
     "output_type": "execute_result"
    }
   ],
   "source": [
    "tuple(np.multiply(np.array((results.pose_landmarks.landmark[mp_holistic.PoseLandmark.LEFT_EAR].x, \n",
    "results.pose_landmarks.landmark[mp_holistic.PoseLandmark.LEFT_EAR].y)), [640,480]).astype(int))\n"
   ]
  },
  {
   "cell_type": "code",
   "execution_count": null,
   "id": "15a6d2b9",
   "metadata": {},
   "outputs": [],
   "source": []
  }
 ],
 "metadata": {
  "kernelspec": {
   "display_name": "Python 3 (ipykernel)",
   "language": "python",
   "name": "python3"
  },
  "language_info": {
   "codemirror_mode": {
    "name": "ipython",
    "version": 3
   },
   "file_extension": ".py",
   "mimetype": "text/x-python",
   "name": "python",
   "nbconvert_exporter": "python",
   "pygments_lexer": "ipython3",
   "version": "3.9.13"
  }
 },
 "nbformat": 4,
 "nbformat_minor": 5
}
